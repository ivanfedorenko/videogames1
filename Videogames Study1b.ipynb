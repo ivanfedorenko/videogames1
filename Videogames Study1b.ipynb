{
 "cells": [
  {
   "cell_type": "markdown",
   "id": "e7e52c44",
   "metadata": {},
   "source": [
    "<b>Load data and convert variables to proper types</b>"
   ]
  },
  {
   "cell_type": "code",
   "execution_count": 1,
   "id": "28f4661c",
   "metadata": {},
   "outputs": [],
   "source": [
    "import pandas as pd\n",
    "import statsmodels.api as sm\n",
    "import statsmodels.formula.api as smf\n",
    "df = pd.read_csv('Secrets_Quasi_2023.csv')"
   ]
  },
  {
   "cell_type": "code",
   "execution_count": 2,
   "id": "7b5e36d0",
   "metadata": {
    "scrolled": false
   },
   "outputs": [
    {
     "name": "stdout",
     "output_type": "stream",
     "text": [
      "['Name', 'Rating', 'Price', 'Userscore', 'User_Reviews', 'Publisher', 'Facebook', 'Brand', 'Franchise', 'Sales', 'Reviews', 'S_Positive', 'Beta', 'Week1', 'Week2', 'Week3', 'Week4', 'Week5', 'Week6', 'Week7', 'Week8', 'Week9', 'Week10', 'ReleaseDate', 'Website', 'Genre', 'BetaStart', 'Beta_Source', 'Developer']\n",
      "Name             object\n",
      "Rating          float64\n",
      "Price           float64\n",
      "Userscore       float64\n",
      "User_Reviews    float64\n",
      "Publisher        object\n",
      "Facebook          int64\n",
      "Brand             int64\n",
      "Franchise         int64\n",
      "Sales             int64\n",
      "Reviews           int64\n",
      "S_Positive        int64\n",
      "Beta              int64\n",
      "Week1           float64\n",
      "Week2           float64\n",
      "Week3           float64\n",
      "Week4           float64\n",
      "Week5           float64\n",
      "Week6           float64\n",
      "Week7           float64\n",
      "Week8           float64\n",
      "Week9           float64\n",
      "Week10          float64\n",
      "ReleaseDate      object\n",
      "Website          object\n",
      "Genre            object\n",
      "BetaStart        object\n",
      "Beta_Source      object\n",
      "Developer        object\n",
      "dtype: object\n"
     ]
    }
   ],
   "source": [
    "# Get a list of variables (columns)\n",
    "variables = df.columns.tolist()\n",
    "print(variables)\n",
    "#check the datatypes\n",
    "data_types = df.dtypes\n",
    "print(data_types)\n",
    "#CONVERT TO THE RELEVANT TYPE\n",
    "columns_to_convert = ['Facebook', 'Brand', 'Franchise', 'Sales', 'Reviews']\n",
    "df[columns_to_convert] = df[columns_to_convert].astype(int)\n",
    "df['Genre'] = df['Genre'].astype('category')\n",
    "df['Publisher'] = df['Publisher'].astype('category')"
   ]
  },
  {
   "cell_type": "code",
   "execution_count": 3,
   "id": "799f651a",
   "metadata": {},
   "outputs": [
    {
     "name": "stdout",
     "output_type": "stream",
     "text": [
      "<class 'pandas.core.frame.DataFrame'>\n",
      "RangeIndex: 339 entries, 0 to 338\n",
      "Data columns (total 29 columns):\n",
      " #   Column        Non-Null Count  Dtype   \n",
      "---  ------        --------------  -----   \n",
      " 0   Name          339 non-null    object  \n",
      " 1   Rating        330 non-null    float64 \n",
      " 2   Price         339 non-null    float64 \n",
      " 3   Userscore     299 non-null    float64 \n",
      " 4   User_Reviews  299 non-null    float64 \n",
      " 5   Publisher     339 non-null    category\n",
      " 6   Facebook      339 non-null    int32   \n",
      " 7   Brand         339 non-null    int32   \n",
      " 8   Franchise     339 non-null    int32   \n",
      " 9   Sales         339 non-null    int32   \n",
      " 10  Reviews       339 non-null    int32   \n",
      " 11  S_Positive    339 non-null    int64   \n",
      " 12  Beta          339 non-null    int64   \n",
      " 13  Week1         195 non-null    float64 \n",
      " 14  Week2         198 non-null    float64 \n",
      " 15  Week3         201 non-null    float64 \n",
      " 16  Week4         205 non-null    float64 \n",
      " 17  Week5         211 non-null    float64 \n",
      " 18  Week6         217 non-null    float64 \n",
      " 19  Week7         220 non-null    float64 \n",
      " 20  Week8         223 non-null    float64 \n",
      " 21  Week9         227 non-null    float64 \n",
      " 22  Week10        233 non-null    float64 \n",
      " 23  ReleaseDate   339 non-null    object  \n",
      " 24  Website       338 non-null    object  \n",
      " 25  Genre         339 non-null    category\n",
      " 26  BetaStart     94 non-null     object  \n",
      " 27  Beta_Source   115 non-null    object  \n",
      " 28  Developer     174 non-null    object  \n",
      "dtypes: category(2), float64(14), int32(5), int64(2), object(6)\n",
      "memory usage: 71.6+ KB\n"
     ]
    }
   ],
   "source": [
    "#checking for missing values (11 missing in Rating cant be used for instruments)\n",
    "df.info()"
   ]
  },
  {
   "cell_type": "markdown",
   "id": "a1d686e9",
   "metadata": {},
   "source": [
    "<b>Create Year and Season dummies then resave</b>"
   ]
  },
  {
   "cell_type": "code",
   "execution_count": 4,
   "id": "823291ba",
   "metadata": {},
   "outputs": [],
   "source": [
    "df['ReleaseDate'] = pd.to_datetime(df['ReleaseDate'], format='%m/%d/%Y')\n",
    "df['Month'] = df['ReleaseDate'].dt.month\n",
    "df['Year'] = df['ReleaseDate'].dt.year\n",
    "# Define seasons\n",
    "def get_season(month):\n",
    "    if month in [12, 1, 2]:\n",
    "        return 'Winter'\n",
    "    elif month in [3, 4, 5]:\n",
    "        return 'Spring'\n",
    "    elif month in [6, 7, 8]:\n",
    "        return 'Summer'\n",
    "    elif month in [9, 10, 11]:\n",
    "        return 'Fall'\n",
    "    \n",
    "# Apply the get_season function to create a 'Season' column\n",
    "df['Season'] = df['Month'].apply(get_season)\n",
    "# Create dummies for the Year and Season columns\n",
    "season_dummies = pd.get_dummies(df['Season'], prefix='Season')\n",
    "df['Year_Dummy'] = (df['Year'] == 2018).astype(int)\n",
    "# Concatenate the dummies with the original DataFrame\n",
    "df = pd.concat([df, season_dummies], axis=1)\n",
    "# Drop the 'Month', 'Year' and 'Season' columns if they are no longer needed\n",
    "df.drop(['Month', 'Season', 'Year'], axis=1, inplace=True)\n",
    "# Save the DataFrame as a .csv file\n",
    "#df.to_csv('Secrets_Quasi_2023v2.csv', index=False)"
   ]
  },
  {
   "cell_type": "markdown",
   "id": "6e59bece",
   "metadata": {},
   "source": [
    "<B>Table 1 Summary of dependent variables</b>"
   ]
  },
  {
   "cell_type": "code",
   "execution_count": 5,
   "id": "f3b8f0be",
   "metadata": {
    "scrolled": true
   },
   "outputs": [
    {
     "name": "stdout",
     "output_type": "stream",
     "text": [
      "Table 1. Summary of dependent variables\n",
      "            Sales   Reviews  Rating   Price\n",
      "count      339.00    339.00  330.00  339.00\n",
      "mean    266153.39   3749.82   74.64   28.49\n",
      "std     286709.50   5317.09    8.93   15.77\n",
      "min      22000.00     66.00   38.00    2.99\n",
      "25%      79000.00    788.50   70.00   14.99\n",
      "50%     167000.00   1695.00   76.00   19.99\n",
      "75%     324000.00   4356.00   80.00   39.99\n",
      "max    1582000.00  31566.00   92.00   59.99\n"
     ]
    }
   ],
   "source": [
    "# Calculate summary statistics and round them to two decimal places for TABLE 1\n",
    "summary_stats = df[['Sales', 'Reviews', 'Rating', 'Price']].describe().round(2)\n",
    "# Print the summary statistics\n",
    "print('Table 1. Summary of dependent variables')\n",
    "print(summary_stats)"
   ]
  },
  {
   "cell_type": "code",
   "execution_count": 6,
   "id": "75d3a354",
   "metadata": {},
   "outputs": [
    {
     "name": "stdout",
     "output_type": "stream",
     "text": [
      "Table 2. Summary of Closed and Open beta testing\n",
      "   index_Closed  closed  index_Open  open\n",
      "0             0     248           0   251\n",
      "1             1      91           1    88\n"
     ]
    }
   ],
   "source": [
    "#beta_counts = df['Beta'].value_counts().reset_index()\n",
    "#print(beta_counts)\n",
    "#create binary variables for open and closed beta testing: Early Access = 2 counts as open\n",
    "df['closed'] = df['Beta'].apply(lambda x: 1 if x == 1  else 0)\n",
    "df['open'] = df['Beta'].apply(lambda x: 1 if x in [2, 3] else 0)\n",
    "closed_counts = df['closed'].value_counts().reset_index()\n",
    "open_counts = df['open'].value_counts().reset_index()\n",
    "# Print the summary table\n",
    "beta_table = pd.merge(closed_counts, open_counts, left_index=True, right_index=True, suffixes=('_Closed', '_Open'))\n",
    "print('Table 2. Summary of Closed and Open beta testing')\n",
    "print(beta_table)"
   ]
  },
  {
   "cell_type": "code",
   "execution_count": 7,
   "id": "31f43ea8",
   "metadata": {},
   "outputs": [
    {
     "name": "stdout",
     "output_type": "stream",
     "text": [
      "Table 3.1 Beta testing Startegy by Brand\n",
      "       0_Closed  1_Closed  Total_Closed  0_Open  1_Open  Total_Open\n",
      "Brand                                                              \n",
      "0           166        63           229     160      69         229\n",
      "1            82        28           110      91      19         110\n",
      "Total       248        91           339     251      88         339\n",
      "Table 3.2 Beta testing Startegy by Genre\n",
      "            0_Closed  1_Closed  Total_Closed  0_Open  1_Open  Total_Open\n",
      "Genre                                                                   \n",
      "Action            68        18            86      61      25          86\n",
      "Adventure         57        10            67      59       8          67\n",
      "RPG               35        15            50      37      13          50\n",
      "Racing             4         7            11       9       2          11\n",
      "Shooter           17         6            23      21       2          23\n",
      "Simulation        22        12            34      20      14          34\n",
      "Sports             5         4             9       7       2           9\n",
      "Strategy          40        19            59      37      22          59\n",
      "Total            248        91           339     251      88         339\n"
     ]
    }
   ],
   "source": [
    "# Tabulate 'Brand' and 'closed beta' with row and column totals\n",
    "brand_closed_tab = pd.crosstab(df['Brand'], df['closed'], margins=True, margins_name='Total')\n",
    "brand_open_tab = pd.crosstab(df['Brand'], df['open'], margins=True, margins_name='Total')\n",
    "genre_closed_tab = pd.crosstab(df['Genre'], df['closed'], margins=True, margins_name='Total')\n",
    "genre_open_tab = pd.crosstab(df['Genre'], df['open'], margins=True, margins_name='Total')\n",
    "\n",
    "# Print the tabulations\n",
    "brand_table = pd.merge(brand_closed_tab, brand_open_tab, left_index=True, right_index=True, suffixes=('_Closed', '_Open'))\n",
    "print(\"Table 3.1 Beta testing Startegy by Brand\")\n",
    "print(brand_table)\n",
    "print(\"Table 3.2 Beta testing Startegy by Genre\")\n",
    "genre_table = pd.merge(genre_closed_tab, genre_open_tab, left_index=True, right_index=True, suffixes=('_Closed', '_Open'))\n",
    "print(genre_table)"
   ]
  },
  {
   "cell_type": "code",
   "execution_count": 8,
   "id": "d65d6141",
   "metadata": {},
   "outputs": [],
   "source": [
    "import numpy as np\n",
    "# Create the 'lgsales' variable by taking the log of 'Sales'\n",
    "df['lgsales'] = np.log(df['Sales'])\n",
    "# Create the 'lgwom' variable by taking the log of 'WOM'\n",
    "df['lgwom'] = np.log(df['Reviews'])"
   ]
  },
  {
   "cell_type": "code",
   "execution_count": 9,
   "id": "de885fc4",
   "metadata": {
    "scrolled": true
   },
   "outputs": [
    {
     "data": {
      "text/html": [
       "<div>\n",
       "<style scoped>\n",
       "    .dataframe tbody tr th:only-of-type {\n",
       "        vertical-align: middle;\n",
       "    }\n",
       "\n",
       "    .dataframe tbody tr th {\n",
       "        vertical-align: top;\n",
       "    }\n",
       "\n",
       "    .dataframe thead th {\n",
       "        text-align: right;\n",
       "    }\n",
       "</style>\n",
       "<table border=\"1\" class=\"dataframe\">\n",
       "  <thead>\n",
       "    <tr style=\"text-align: right;\">\n",
       "      <th></th>\n",
       "      <th>Season_Fall</th>\n",
       "      <th>Season_Spring</th>\n",
       "      <th>Season_Summer</th>\n",
       "      <th>Season_Winter</th>\n",
       "    </tr>\n",
       "  </thead>\n",
       "  <tbody>\n",
       "    <tr>\n",
       "      <th>0</th>\n",
       "      <td>0</td>\n",
       "      <td>0</td>\n",
       "      <td>0</td>\n",
       "      <td>1</td>\n",
       "    </tr>\n",
       "    <tr>\n",
       "      <th>1</th>\n",
       "      <td>0</td>\n",
       "      <td>1</td>\n",
       "      <td>0</td>\n",
       "      <td>0</td>\n",
       "    </tr>\n",
       "    <tr>\n",
       "      <th>2</th>\n",
       "      <td>0</td>\n",
       "      <td>1</td>\n",
       "      <td>0</td>\n",
       "      <td>0</td>\n",
       "    </tr>\n",
       "    <tr>\n",
       "      <th>3</th>\n",
       "      <td>0</td>\n",
       "      <td>1</td>\n",
       "      <td>0</td>\n",
       "      <td>0</td>\n",
       "    </tr>\n",
       "    <tr>\n",
       "      <th>4</th>\n",
       "      <td>0</td>\n",
       "      <td>0</td>\n",
       "      <td>0</td>\n",
       "      <td>1</td>\n",
       "    </tr>\n",
       "    <tr>\n",
       "      <th>...</th>\n",
       "      <td>...</td>\n",
       "      <td>...</td>\n",
       "      <td>...</td>\n",
       "      <td>...</td>\n",
       "    </tr>\n",
       "    <tr>\n",
       "      <th>334</th>\n",
       "      <td>0</td>\n",
       "      <td>0</td>\n",
       "      <td>1</td>\n",
       "      <td>0</td>\n",
       "    </tr>\n",
       "    <tr>\n",
       "      <th>335</th>\n",
       "      <td>1</td>\n",
       "      <td>0</td>\n",
       "      <td>0</td>\n",
       "      <td>0</td>\n",
       "    </tr>\n",
       "    <tr>\n",
       "      <th>336</th>\n",
       "      <td>0</td>\n",
       "      <td>0</td>\n",
       "      <td>1</td>\n",
       "      <td>0</td>\n",
       "    </tr>\n",
       "    <tr>\n",
       "      <th>337</th>\n",
       "      <td>0</td>\n",
       "      <td>0</td>\n",
       "      <td>1</td>\n",
       "      <td>0</td>\n",
       "    </tr>\n",
       "    <tr>\n",
       "      <th>338</th>\n",
       "      <td>0</td>\n",
       "      <td>0</td>\n",
       "      <td>0</td>\n",
       "      <td>1</td>\n",
       "    </tr>\n",
       "  </tbody>\n",
       "</table>\n",
       "<p>339 rows × 4 columns</p>\n",
       "</div>"
      ],
      "text/plain": [
       "     Season_Fall  Season_Spring  Season_Summer  Season_Winter\n",
       "0              0              0              0              1\n",
       "1              0              1              0              0\n",
       "2              0              1              0              0\n",
       "3              0              1              0              0\n",
       "4              0              0              0              1\n",
       "..           ...            ...            ...            ...\n",
       "334            0              0              1              0\n",
       "335            1              0              0              0\n",
       "336            0              0              1              0\n",
       "337            0              0              1              0\n",
       "338            0              0              0              1\n",
       "\n",
       "[339 rows x 4 columns]"
      ]
     },
     "execution_count": 9,
     "metadata": {},
     "output_type": "execute_result"
    }
   ],
   "source": [
    "season_dummies"
   ]
  },
  {
   "cell_type": "code",
   "execution_count": 10,
   "id": "27674073",
   "metadata": {},
   "outputs": [],
   "source": [
    "# Create interaction terms\n",
    "df['Brand_closed'] = df['Brand'] * df['closed']\n",
    "df['Brand_open'] = df['Brand'] * df['open']"
   ]
  },
  {
   "cell_type": "markdown",
   "id": "f16d7a99",
   "metadata": {},
   "source": [
    "<b>#Preliminary Aalysis (HLM)</b>"
   ]
  },
  {
   "cell_type": "code",
   "execution_count": 11,
   "id": "420dfae0",
   "metadata": {
    "scrolled": true
   },
   "outputs": [],
   "source": [
    "#There are 9 (nine) missing values in Rating so we have to drop them\n",
    "df2 = df.dropna(subset=['Rating'])"
   ]
  },
  {
   "cell_type": "code",
   "execution_count": 12,
   "id": "41d7937d",
   "metadata": {},
   "outputs": [
    {
     "name": "stdout",
     "output_type": "stream",
     "text": [
      "         Mixed Linear Model Regression Results\n",
      "=======================================================\n",
      "Model:            MixedLM Dependent Variable: lgsales  \n",
      "No. Observations: 339     Method:             REML     \n",
      "No. Groups:       151     Scale:              0.8052   \n",
      "Min. group size:  1       Log-Likelihood:     -465.5083\n",
      "Max. group size:  15      Converged:          Yes      \n",
      "Mean group size:  2.2                                  \n",
      "-------------------------------------------------------\n",
      "            Coef.  Std.Err.    z    P>|z| [0.025 0.975]\n",
      "-------------------------------------------------------\n",
      "Intercept   11.787    0.077 152.203 0.000 11.635 11.939\n",
      "open         0.483    0.137   3.512 0.000  0.213  0.752\n",
      "Brand        0.358    0.135   2.658 0.008  0.094  0.623\n",
      "Brand_open   0.032    0.276   0.116 0.907 -0.510  0.574\n",
      "Genre Var    0.099    0.091                            \n",
      "=======================================================\n",
      "\n"
     ]
    }
   ],
   "source": [
    "from linearmodels import PanelOLS\n",
    "from statsmodels.formula.api import mixedlm\n",
    "hlmmodel2 = mixedlm('lgsales ~ open + Brand + Brand_open', df, groups=df[\"Publisher\"], \n",
    "                vc_formula={\"Genre\": \"0 + C(Genre)\"})\n",
    "hlm2 = hlmmodel2.fit()\n",
    "print(hlm2.summary())"
   ]
  },
  {
   "cell_type": "code",
   "execution_count": 13,
   "id": "ad5069b7",
   "metadata": {},
   "outputs": [
    {
     "name": "stdout",
     "output_type": "stream",
     "text": [
      "Table 4.1 Peliminary analysis of Closed beta testing effect on Sales\n",
      "Mixed models nested at Publisher and Genre level\n",
      "        Variable  model_1 model_2   model_3    model_4\n",
      "0         closed    0.124   0.074     0.024      0.098\n",
      "1          Brand  0.291**  0.248*     0.098      0.158\n",
      "2   Brand_closed        -   0.167     0.211      0.121\n",
      "3         Rating        -       -  0.021***   0.022***\n",
      "4          Price        -       -    0.007*    0.010**\n",
      "5     Year_Dummy        -       -         -   -0.241**\n",
      "6    Season_Fall        -       -         -  -0.439***\n",
      "7  Season_Spring        -       -         -     -0.053\n",
      "8  Season_Summer        -       -         -  -0.457***\n"
     ]
    }
   ],
   "source": [
    "#HLM models of CLOSED beta testing and Brand effects on SALES\n",
    "# Define all possible coefficients across all models\n",
    "coefficients = ['closed','Brand', 'Brand_closed', 'Rating', 'Price', 'Year_Dummy', 'Season_Fall', 'Season_Spring', 'Season_Summer']\n",
    "# Create a DataFrame to hold the summary table\n",
    "summary_table_hlm = pd.DataFrame(columns=['Variable'] + [f'model_{i}' for i in range(1, 5)])\n",
    "# List of models and their corresponding results\n",
    "models_and_results = [\n",
    "    ('Model1', mixedlm('lgsales ~ closed + Brand', df2, groups=df2[\"Publisher\"], vc_formula={\"Genre\": \"0 + C(Genre)\"}).fit()),\n",
    "    ('Model2', mixedlm('lgsales ~ closed + Brand + Brand_closed', df2, groups=df2[\"Publisher\"], vc_formula={\"Genre\": \"0 + C(Genre)\"}).fit()),\n",
    "    ('Model3', mixedlm('lgsales ~ closed + Brand + Brand_closed + Rating + Price', df2, groups=df2[\"Publisher\"], vc_formula={\"Genre\": \"0 + C(Genre)\"}).fit()),\n",
    "    ('Model4', mixedlm('lgsales ~ closed + Brand + Brand_closed + Rating + Price + Year_Dummy + Season_Fall + Season_Spring + Season_Summer', df2, groups=df2[\"Publisher\"], vc_formula={\"Genre\": \"0 + C(Genre)\"}).fit())\n",
    "]\n",
    "\n",
    "# Populate the summary table with coefficients and significance levels\n",
    "for coef_name in coefficients:\n",
    "    coef_values = []\n",
    "    for model_name, result in models_and_results:\n",
    "        coef_value = result.params.get(coef_name, '-')\n",
    "        if isinstance(coef_value, (int, float)):\n",
    "            coef_value = round(coef_value, 3)\n",
    "            p_value = result.pvalues.get(coef_name, 1.0)\n",
    "            significance_level = ''\n",
    "            if p_value < 0.01:\n",
    "                significance_level = '***'\n",
    "            elif p_value < 0.05:\n",
    "                significance_level = '**'\n",
    "            elif p_value < 0.1:\n",
    "                significance_level = '*'\n",
    "            coef_values.append(f\"{coef_value:.3f}{significance_level}\")\n",
    "        else:\n",
    "            coef_values.append('-')\n",
    "    summary_table_hlm.loc[len(summary_table_hlm)] = [coef_name] + coef_values\n",
    "\n",
    "# Display the summary table\n",
    "print('Table 4.1 Peliminary analysis of Closed beta testing effect on Sales')\n",
    "print('Mixed models nested at Publisher and Genre level')\n",
    "print(summary_table_hlm)"
   ]
  },
  {
   "cell_type": "markdown",
   "id": "d4d7de73",
   "metadata": {},
   "source": [
    "<b>Preliminary analysis of beta teating effect on WOM (Table 4)</b>"
   ]
  },
  {
   "cell_type": "code",
   "execution_count": 14,
   "id": "0720ae3d",
   "metadata": {
    "scrolled": false
   },
   "outputs": [
    {
     "name": "stdout",
     "output_type": "stream",
     "text": [
      "Table 4.2 Peliminary analysis of Open beta testing effect on Sales\n",
      "Mixed models nested at Publisher and Genre level\n",
      "        Variable   model_1   model_2   model_3    model_4\n",
      "0           open  0.523***  0.506***  0.573***   0.524***\n",
      "1          Brand  0.361***   0.348**     0.227     0.255*\n",
      "2     Brand_open         -     0.066    -0.011     -0.046\n",
      "3         Rating         -         -  0.024***   0.025***\n",
      "4          Price         -         -   0.007**    0.010**\n",
      "5     Year_Dummy         -         -         -   -0.229**\n",
      "6    Season_Fall         -         -         -   -0.407**\n",
      "7  Season_Spring         -         -         -     -0.125\n",
      "8  Season_Summer         -         -         -  -0.424***\n"
     ]
    }
   ],
   "source": [
    "#HLM models of OPEN beta testing and Brand effects on SALES\n",
    "coefficients = ['open','Brand', 'Brand_open', 'Rating', 'Price', 'Year_Dummy', 'Season_Fall', 'Season_Spring', 'Season_Summer']\n",
    "# Create a DataFrame to hold the summary table\n",
    "summary_table_hlmo = pd.DataFrame(columns=['Variable'] + [f'model_{i}' for i in range(1, 5)])\n",
    "# List of models and their corresponding results\n",
    "models_and_results = [\n",
    "    ('Model1', mixedlm('lgsales ~ open + Brand', df2, groups=df2[\"Publisher\"], vc_formula={\"Genre\": \"0 + C(Genre)\"}).fit()),\n",
    "    ('Model2', mixedlm('lgsales ~ open + Brand + Brand_open', df2, groups=df2[\"Publisher\"], vc_formula={\"Genre\": \"0 + C(Genre)\"}).fit()),\n",
    "    ('Model3', mixedlm('lgsales ~ open + Brand + Brand_open + Rating + Price', df2, groups=df2[\"Publisher\"], vc_formula={\"Genre\": \"0 + C(Genre)\"}).fit()),\n",
    "    ('Model4', mixedlm('lgsales ~ open + Brand + Brand_open + Rating + Price + Year_Dummy + Season_Fall + Season_Spring + Season_Summer', df2, groups=df2[\"Publisher\"], vc_formula={\"Genre\": \"0 + C(Genre)\"}).fit())\n",
    "]\n",
    "\n",
    "# Populate the summary table with coefficients and significance levels\n",
    "for coef_name in coefficients:\n",
    "    coef_values = []\n",
    "    for model_name, result in models_and_results:\n",
    "        coef_value = result.params.get(coef_name, '-')\n",
    "        if isinstance(coef_value, (int, float)):\n",
    "            coef_value = round(coef_value, 3)\n",
    "            p_value = result.pvalues.get(coef_name, 1.0)\n",
    "            significance_level = ''\n",
    "            if p_value < 0.01:\n",
    "                significance_level = '***'\n",
    "            elif p_value < 0.05:\n",
    "                significance_level = '**'\n",
    "            elif p_value < 0.1:\n",
    "                significance_level = '*'\n",
    "            coef_values.append(f\"{coef_value:.3f}{significance_level}\")\n",
    "        else:\n",
    "            coef_values.append('-')\n",
    "    summary_table_hlmo.loc[len(summary_table_hlmo)] = [coef_name] + coef_values\n",
    "\n",
    "# Display the summary table\n",
    "print('Table 4.2 Peliminary analysis of Open beta testing effect on Sales')\n",
    "print('Mixed models nested at Publisher and Genre level')\n",
    "print(summary_table_hlmo)"
   ]
  },
  {
   "cell_type": "markdown",
   "id": "893bd66a",
   "metadata": {},
   "source": [
    "<b>Preliminary analysis of beta teating effect on WOM (Table 5)</b>"
   ]
  },
  {
   "cell_type": "code",
   "execution_count": 15,
   "id": "c18537d2",
   "metadata": {
    "scrolled": true
   },
   "outputs": [
    {
     "name": "stdout",
     "output_type": "stream",
     "text": [
      "Table 5.1 Peliminary analysis of Closed beta testing effect on WOM (Reviews)\n",
      "Mixed models nested at Publisher and Genre level\n",
      "        Variable  model_1 model_2   model_3   model_4\n",
      "0         closed    0.189   0.144     0.044     0.088\n",
      "1          Brand  0.377**  0.339*    -0.016     0.023\n",
      "2   Brand_closed        -   0.150     0.228     0.163\n",
      "3         Rating        -       -  0.036***  0.037***\n",
      "4          Price        -       -  0.021***  0.022***\n",
      "5     Year_Dummy        -       -         -    -0.064\n",
      "6    Season_Fall        -       -         -  -0.387**\n",
      "7  Season_Spring        -       -         -    -0.153\n",
      "8  Season_Summer        -       -         -   -0.372*\n"
     ]
    }
   ],
   "source": [
    "#HLM models of CLOSED beta testing and Brand effects on WOM\n",
    "coefficients = ['closed','Brand', 'Brand_closed', 'Rating', 'Price', 'Year_Dummy', 'Season_Fall', 'Season_Spring', 'Season_Summer']\n",
    "# Create a DataFrame to hold the summary table\n",
    "summary_table_hlm2 = pd.DataFrame(columns=['Variable'] + [f'model_{i}' for i in range(1, 5)])\n",
    "# List of models and their corresponding results\n",
    "models_and_results = [\n",
    "    ('Model1', mixedlm('lgwom ~ closed + Brand', df2, groups=df2[\"Publisher\"], vc_formula={\"Genre\": \"0 + C(Genre)\"}).fit()),\n",
    "    ('Model2', mixedlm('lgwom ~ closed + Brand + Brand_closed', df2, groups=df2[\"Publisher\"], vc_formula={\"Genre\": \"0 + C(Genre)\"}).fit()),\n",
    "    ('Model3', mixedlm('lgwom ~ closed + Brand + Brand_closed + Rating + Price', df2, groups=df2[\"Publisher\"], vc_formula={\"Genre\": \"0 + C(Genre)\"}).fit()),\n",
    "    ('Model4', mixedlm('lgwom ~ closed + Brand + Brand_closed + Rating + Price + Year_Dummy + Season_Fall + Season_Spring + Season_Summer', df2, groups=df2[\"Publisher\"], vc_formula={\"Genre\": \"0 + C(Genre)\"}).fit())\n",
    "]\n",
    "\n",
    "# Populate the summary table with coefficients and significance levels\n",
    "for coef_name in coefficients:\n",
    "    coef_values = []\n",
    "    for model_name, result in models_and_results:\n",
    "        coef_value = result.params.get(coef_name, '-')\n",
    "        if isinstance(coef_value, (int, float)):\n",
    "            coef_value = round(coef_value, 3)\n",
    "            p_value = result.pvalues.get(coef_name, 1.0)\n",
    "            significance_level = ''\n",
    "            if p_value < 0.01:\n",
    "                significance_level = '***'\n",
    "            elif p_value < 0.05:\n",
    "                significance_level = '**'\n",
    "            elif p_value < 0.1:\n",
    "                significance_level = '*'\n",
    "            coef_values.append(f\"{coef_value:.3f}{significance_level}\")\n",
    "        else:\n",
    "            coef_values.append('-')\n",
    "    summary_table_hlm2.loc[len(summary_table_hlm2)] = [coef_name] + coef_values\n",
    "\n",
    "# Display the summary table\n",
    "print('Table 5.1 Peliminary analysis of Closed beta testing effect on WOM (Reviews)')\n",
    "print('Mixed models nested at Publisher and Genre level')\n",
    "print(summary_table_hlm2)"
   ]
  },
  {
   "cell_type": "code",
   "execution_count": 16,
   "id": "c9a95bc5",
   "metadata": {},
   "outputs": [
    {
     "name": "stdout",
     "output_type": "stream",
     "text": [
      "Table 5.2 Peliminary analysis of Open beta testing effect on WOM (Reviews)\n",
      "Mixed models nested at Publisher and Genre level\n",
      "        Variable   model_1   model_2   model_3   model_4\n",
      "0           open  0.444***  0.531***  0.643***  0.622***\n",
      "1          Brand  0.438***  0.506***     0.200     0.212\n",
      "2     Brand_open         -    -0.340    -0.469    -0.469\n",
      "3         Rating         -         -  0.039***  0.040***\n",
      "4          Price         -         -  0.021***  0.022***\n",
      "5     Year_Dummy         -         -         -    -0.060\n",
      "6    Season_Fall         -         -         -   -0.362*\n",
      "7  Season_Spring         -         -         -    -0.219\n",
      "8  Season_Summer         -         -         -   -0.343*\n"
     ]
    }
   ],
   "source": [
    "#HLM models of OPEN beta testing and Brand effects on WOM\n",
    "coefficients = ['open','Brand', 'Brand_open', 'Rating', 'Price', 'Year_Dummy', 'Season_Fall', 'Season_Spring', 'Season_Summer']\n",
    "# Create a DataFrame to hold the summary table\n",
    "summary_table_hlmo2 = pd.DataFrame(columns=['Variable'] + [f'model_{i}' for i in range(1, 5)])\n",
    "# List of models and their corresponding results\n",
    "models_and_results = [\n",
    "    ('Model1', mixedlm('lgwom ~ open + Brand', df2, groups=df2[\"Publisher\"], vc_formula={\"Genre\": \"0 + C(Genre)\"}).fit()),\n",
    "    ('Model2', mixedlm('lgwom ~ open + Brand + Brand_open', df2, groups=df2[\"Publisher\"], vc_formula={\"Genre\": \"0 + C(Genre)\"}).fit()),\n",
    "    ('Model3', mixedlm('lgwom ~ open + Brand + Brand_open + Rating + Price', df2, groups=df2[\"Publisher\"], vc_formula={\"Genre\": \"0 + C(Genre)\"}).fit()),\n",
    "    ('Model4', mixedlm('lgwom ~ open + Brand + Brand_open + Rating + Price + Year_Dummy + Season_Fall + Season_Spring + Season_Summer', df2, groups=df2[\"Publisher\"], vc_formula={\"Genre\": \"0 + C(Genre)\"}).fit())\n",
    "]\n",
    "\n",
    "# Populate the summary table with coefficients and significance levels\n",
    "for coef_name in coefficients:\n",
    "    coef_values = []\n",
    "    for model_name, result in models_and_results:\n",
    "        coef_value = result.params.get(coef_name, '-')\n",
    "        if isinstance(coef_value, (int, float)):\n",
    "            coef_value = round(coef_value, 3)\n",
    "            p_value = result.pvalues.get(coef_name, 1.0)\n",
    "            significance_level = ''\n",
    "            if p_value < 0.01:\n",
    "                significance_level = '***'\n",
    "            elif p_value < 0.05:\n",
    "                significance_level = '**'\n",
    "            elif p_value < 0.1:\n",
    "                significance_level = '*'\n",
    "            coef_values.append(f\"{coef_value:.3f}{significance_level}\")\n",
    "        else:\n",
    "            coef_values.append('-')\n",
    "    summary_table_hlmo2.loc[len(summary_table_hlmo2)] = [coef_name] + coef_values\n",
    "\n",
    "# Display the summary table\n",
    "print('Table 5.2 Peliminary analysis of Open beta testing effect on WOM (Reviews)')\n",
    "print('Mixed models nested at Publisher and Genre level')\n",
    "print(summary_table_hlmo2)"
   ]
  },
  {
   "cell_type": "markdown",
   "id": "d52817f4",
   "metadata": {},
   "source": [
    "<b>Instrumenting open and closed Beta via genre-specific expectation of beta (Sales)</b>"
   ]
  },
  {
   "cell_type": "code",
   "execution_count": 17,
   "id": "ee94e371",
   "metadata": {
    "scrolled": true
   },
   "outputs": [
    {
     "name": "stdout",
     "output_type": "stream",
     "text": [
      "Table 3 Genre-specific Expectation of Open and Closed Beta Testing\n",
      "        Genre  genre_open  genre_closed\n",
      "0      Action        0.29          0.21\n",
      "1   Adventure        0.12          0.15\n",
      "2         RPG        0.26          0.30\n",
      "3      Racing        0.18          0.64\n",
      "4     Shooter        0.09          0.26\n",
      "5  Simulation        0.41          0.35\n",
      "6      Sports        0.22          0.44\n",
      "7    Strategy        0.37          0.32\n"
     ]
    }
   ],
   "source": [
    "# Group the games by Genre and calculate the genre-specific averages for open and closed beta testing\n",
    "genre_grouped = df.groupby('Genre').agg({'open': 'mean', 'closed': 'mean'}).reset_index()\n",
    "genre_grouped.rename(columns={'open': 'genre_open', 'closed': 'genre_closed'}, inplace=True)\n",
    "\n",
    "# Round the values\n",
    "genre_grouped['genre_open'] = genre_grouped['genre_open'].round(2)\n",
    "genre_grouped['genre_closed'] = genre_grouped['genre_closed'].round(2)\n",
    "\n",
    "# Print the summary table\n",
    "print('Table 3 Genre-specific Expectation of Open and Closed Beta Testing')\n",
    "print(genre_grouped)"
   ]
  },
  {
   "cell_type": "code",
   "execution_count": 18,
   "id": "a11d9a9a",
   "metadata": {},
   "outputs": [],
   "source": [
    "# add genre_apecific averages to the original dataframe as variables\n",
    "genre_grouped.rename(columns={'open': 'genre_open', 'closed': 'genre_closed'}, inplace=True)\n",
    "df = pd.merge(df, genre_grouped, on='Genre', how='left')"
   ]
  },
  {
   "cell_type": "code",
   "execution_count": 20,
   "id": "e7a7758e",
   "metadata": {
    "scrolled": true
   },
   "outputs": [
    {
     "name": "stdout",
     "output_type": "stream",
     "text": [
      "Facebook followers by Brand\n",
      " Brand   Facebook\n",
      "     0   76585.02\n",
      "     1 1213715.30\n"
     ]
    }
   ],
   "source": [
    "# Group by 'Brand' and calculate the average number of Facebook followers\n",
    "brand_grouped = df.groupby('Brand')['Facebook'].mean().reset_index()\n",
    "# Round the average values to two decimals\n",
    "brand_grouped['Facebook'] = brand_grouped['Facebook'].round(2)\n",
    "\n",
    "# Print the summary table in a readable format\n",
    "print('Facebook followers by Brand')\n",
    "print(brand_grouped.to_string(index=False))"
   ]
  },
  {
   "cell_type": "code",
   "execution_count": 23,
   "id": "0798a912",
   "metadata": {},
   "outputs": [
    {
     "data": {
      "text/html": [
       "<table class=\"simpletable\">\n",
       "<caption>IV2SLS Regression Results</caption>\n",
       "<tr>\n",
       "  <th>Dep. Variable:</th>         <td>lgsales</td>     <th>  R-squared:         </th> <td>  -0.848</td>\n",
       "</tr>\n",
       "<tr>\n",
       "  <th>Model:</th>                 <td>IV2SLS</td>      <th>  Adj. R-squared:    </th> <td>  -0.864</td>\n",
       "</tr>\n",
       "<tr>\n",
       "  <th>Method:</th>               <td>Two Stage</td>    <th>  F-statistic:       </th> <td>     nan</td>\n",
       "</tr>\n",
       "<tr>\n",
       "  <th></th>                    <td>Least Squares</td>  <th>  Prob (F-statistic):</th>  <td>   nan</td> \n",
       "</tr>\n",
       "<tr>\n",
       "  <th>Date:</th>             <td>Thu, 11 Jul 2024</td> <th>                     </th>     <td> </td>   \n",
       "</tr>\n",
       "<tr>\n",
       "  <th>Time:</th>                 <td>15:50:14</td>     <th>                     </th>     <td> </td>   \n",
       "</tr>\n",
       "<tr>\n",
       "  <th>No. Observations:</th>      <td>   330</td>      <th>                     </th>     <td> </td>   \n",
       "</tr>\n",
       "<tr>\n",
       "  <th>Df Residuals:</th>          <td>   327</td>      <th>                     </th>     <td> </td>   \n",
       "</tr>\n",
       "<tr>\n",
       "  <th>Df Model:</th>              <td>     3</td>      <th>                     </th>     <td> </td>   \n",
       "</tr>\n",
       "</table>\n",
       "<table class=\"simpletable\">\n",
       "<tr>\n",
       "        <td></td>          <th>coef</th>     <th>std err</th>      <th>t</th>      <th>P>|t|</th>  <th>[0.025</th>    <th>0.975]</th>  \n",
       "</tr>\n",
       "<tr>\n",
       "  <th>closed</th>       <td>   42.2016</td> <td>    5.346</td> <td>    7.895</td> <td> 0.000</td> <td>   31.686</td> <td>   52.718</td>\n",
       "</tr>\n",
       "<tr>\n",
       "  <th>Brand</th>        <td>   16.7388</td> <td>    4.416</td> <td>    3.791</td> <td> 0.000</td> <td>    8.052</td> <td>   25.426</td>\n",
       "</tr>\n",
       "<tr>\n",
       "  <th>Brand_closed</th> <td>  -62.2305</td> <td>   16.208</td> <td>   -3.839</td> <td> 0.000</td> <td>  -94.117</td> <td>  -30.344</td>\n",
       "</tr>\n",
       "</table>\n",
       "<table class=\"simpletable\">\n",
       "<tr>\n",
       "  <th>Omnibus:</th>       <td>46.340</td> <th>  Durbin-Watson:     </th> <td>   1.908</td>\n",
       "</tr>\n",
       "<tr>\n",
       "  <th>Prob(Omnibus):</th> <td> 0.000</td> <th>  Jarque-Bera (JB):  </th> <td>  55.548</td>\n",
       "</tr>\n",
       "<tr>\n",
       "  <th>Skew:</th>          <td>-0.967</td> <th>  Prob(JB):          </th> <td>8.67e-13</td>\n",
       "</tr>\n",
       "<tr>\n",
       "  <th>Kurtosis:</th>      <td> 2.456</td> <th>  Cond. No.          </th> <td>    3.18</td>\n",
       "</tr>\n",
       "</table>"
      ],
      "text/plain": [
       "<class 'statsmodels.iolib.summary.Summary'>\n",
       "\"\"\"\n",
       "                          IV2SLS Regression Results                           \n",
       "==============================================================================\n",
       "Dep. Variable:                lgsales   R-squared:                      -0.848\n",
       "Model:                         IV2SLS   Adj. R-squared:                 -0.864\n",
       "Method:                     Two Stage   F-statistic:                       nan\n",
       "                        Least Squares   Prob (F-statistic):                nan\n",
       "Date:                Thu, 11 Jul 2024                                         \n",
       "Time:                        15:50:14                                         \n",
       "No. Observations:                 330                                         \n",
       "Df Residuals:                     327                                         \n",
       "Df Model:                           3                                         \n",
       "================================================================================\n",
       "                   coef    std err          t      P>|t|      [0.025      0.975]\n",
       "--------------------------------------------------------------------------------\n",
       "closed          42.2016      5.346      7.895      0.000      31.686      52.718\n",
       "Brand           16.7388      4.416      3.791      0.000       8.052      25.426\n",
       "Brand_closed   -62.2305     16.208     -3.839      0.000     -94.117     -30.344\n",
       "==============================================================================\n",
       "Omnibus:                       46.340   Durbin-Watson:                   1.908\n",
       "Prob(Omnibus):                  0.000   Jarque-Bera (JB):               55.548\n",
       "Skew:                          -0.967   Prob(JB):                     8.67e-13\n",
       "Kurtosis:                       2.456   Cond. No.                         3.18\n",
       "==============================================================================\n",
       "\"\"\""
      ]
     },
     "execution_count": 23,
     "metadata": {},
     "output_type": "execute_result"
    }
   ],
   "source": [
    "#2SLS CLOSED beta testing effect on SALES\n",
    "#Table 5.1 Relationship between beta testing signaling, Brand Equity, and WOM (Table 5.2)\n",
    "from statsmodels.sandbox.regression.gmm import IV2SLS\n",
    "df2 = df.dropna(subset=['Rating'])\n",
    "endog_dv = df2['lgsales']\n",
    "exog_iv = df2[['closed', 'Brand', 'Brand_closed']]\n",
    "exog_instruments_iv = df2[['genre_closed', 'Facebook', 'Rating', 'Price']]\n",
    "model_iv_2sls = IV2SLS(endog=endog_dv, exog=exog_iv,  instrument=exog_instruments_iv)\n",
    "TSLSsal = model_iv_2sls.fit()\n",
    "TSLSsal.summary()"
   ]
  },
  {
   "cell_type": "code",
   "execution_count": 24,
   "id": "b975cd7c",
   "metadata": {
    "scrolled": false
   },
   "outputs": [
    {
     "data": {
      "text/html": [
       "<table class=\"simpletable\">\n",
       "<caption>IV2SLS Regression Results</caption>\n",
       "<tr>\n",
       "  <th>Dep. Variable:</th>         <td>lgsales</td>     <th>  R-squared:         </th> <td>  -0.953</td>\n",
       "</tr>\n",
       "<tr>\n",
       "  <th>Model:</th>                 <td>IV2SLS</td>      <th>  Adj. R-squared:    </th> <td>  -0.971</td>\n",
       "</tr>\n",
       "<tr>\n",
       "  <th>Method:</th>               <td>Two Stage</td>    <th>  F-statistic:       </th> <td>     nan</td>\n",
       "</tr>\n",
       "<tr>\n",
       "  <th></th>                    <td>Least Squares</td>  <th>  Prob (F-statistic):</th>  <td>   nan</td> \n",
       "</tr>\n",
       "<tr>\n",
       "  <th>Date:</th>             <td>Thu, 11 Jul 2024</td> <th>                     </th>     <td> </td>   \n",
       "</tr>\n",
       "<tr>\n",
       "  <th>Time:</th>                 <td>15:50:17</td>     <th>                     </th>     <td> </td>   \n",
       "</tr>\n",
       "<tr>\n",
       "  <th>No. Observations:</th>      <td>   330</td>      <th>                     </th>     <td> </td>   \n",
       "</tr>\n",
       "<tr>\n",
       "  <th>Df Residuals:</th>          <td>   327</td>      <th>                     </th>     <td> </td>   \n",
       "</tr>\n",
       "<tr>\n",
       "  <th>Df Model:</th>              <td>     3</td>      <th>                     </th>     <td> </td>   \n",
       "</tr>\n",
       "</table>\n",
       "<table class=\"simpletable\">\n",
       "<tr>\n",
       "       <td></td>         <th>coef</th>     <th>std err</th>      <th>t</th>      <th>P>|t|</th>  <th>[0.025</th>    <th>0.975]</th>  \n",
       "</tr>\n",
       "<tr>\n",
       "  <th>open</th>       <td>   34.4749</td> <td>    4.545</td> <td>    7.586</td> <td> 0.000</td> <td>   25.535</td> <td>   43.415</td>\n",
       "</tr>\n",
       "<tr>\n",
       "  <th>Brand</th>      <td>   23.4787</td> <td>    4.727</td> <td>    4.967</td> <td> 0.000</td> <td>   14.180</td> <td>   32.778</td>\n",
       "</tr>\n",
       "<tr>\n",
       "  <th>Brand_open</th> <td>  -84.4489</td> <td>   27.521</td> <td>   -3.069</td> <td> 0.002</td> <td> -138.590</td> <td>  -30.308</td>\n",
       "</tr>\n",
       "</table>\n",
       "<table class=\"simpletable\">\n",
       "<tr>\n",
       "  <th>Omnibus:</th>       <td>14.906</td> <th>  Durbin-Watson:     </th> <td>   2.038</td>\n",
       "</tr>\n",
       "<tr>\n",
       "  <th>Prob(Omnibus):</th> <td> 0.001</td> <th>  Jarque-Bera (JB):  </th> <td>   9.616</td>\n",
       "</tr>\n",
       "<tr>\n",
       "  <th>Skew:</th>          <td> 0.278</td> <th>  Prob(JB):          </th> <td> 0.00816</td>\n",
       "</tr>\n",
       "<tr>\n",
       "  <th>Kurtosis:</th>      <td> 2.376</td> <th>  Cond. No.          </th> <td>    3.27</td>\n",
       "</tr>\n",
       "</table>"
      ],
      "text/plain": [
       "<class 'statsmodels.iolib.summary.Summary'>\n",
       "\"\"\"\n",
       "                          IV2SLS Regression Results                           \n",
       "==============================================================================\n",
       "Dep. Variable:                lgsales   R-squared:                      -0.953\n",
       "Model:                         IV2SLS   Adj. R-squared:                 -0.971\n",
       "Method:                     Two Stage   F-statistic:                       nan\n",
       "                        Least Squares   Prob (F-statistic):                nan\n",
       "Date:                Thu, 11 Jul 2024                                         \n",
       "Time:                        15:50:17                                         \n",
       "No. Observations:                 330                                         \n",
       "Df Residuals:                     327                                         \n",
       "Df Model:                           3                                         \n",
       "==============================================================================\n",
       "                 coef    std err          t      P>|t|      [0.025      0.975]\n",
       "------------------------------------------------------------------------------\n",
       "open          34.4749      4.545      7.586      0.000      25.535      43.415\n",
       "Brand         23.4787      4.727      4.967      0.000      14.180      32.778\n",
       "Brand_open   -84.4489     27.521     -3.069      0.002    -138.590     -30.308\n",
       "==============================================================================\n",
       "Omnibus:                       14.906   Durbin-Watson:                   2.038\n",
       "Prob(Omnibus):                  0.001   Jarque-Bera (JB):                9.616\n",
       "Skew:                           0.278   Prob(JB):                      0.00816\n",
       "Kurtosis:                       2.376   Cond. No.                         3.27\n",
       "==============================================================================\n",
       "\"\"\""
      ]
     },
     "execution_count": 24,
     "metadata": {},
     "output_type": "execute_result"
    }
   ],
   "source": [
    "#2SLS OPEN beta testing effect on SALES\n",
    "endog_dv = df2['lgsales']\n",
    "exog_iv2 = df2[['open', 'Brand', 'Brand_open']]\n",
    "exog_instruments_iv = df2[['genre_closed', 'genre_open', 'Facebook', 'Rating', 'Price']]\n",
    "model_2slsso = IV2SLS(endog=endog_dv, exog=exog_iv2,  instrument=exog_instruments_iv)\n",
    "TSLSso = model_2slsso.fit()\n",
    "TSLSso.summary()"
   ]
  },
  {
   "cell_type": "markdown",
   "id": "b4703afa",
   "metadata": {},
   "source": [
    "<b>Instrumenting open and closed Beta via genre-specific expectation of beta (WOM)</b>"
   ]
  },
  {
   "cell_type": "code",
   "execution_count": 25,
   "id": "5a8c2ac6",
   "metadata": {
    "scrolled": true
   },
   "outputs": [
    {
     "data": {
      "text/html": [
       "<table class=\"simpletable\">\n",
       "<caption>IV2SLS Regression Results</caption>\n",
       "<tr>\n",
       "  <th>Dep. Variable:</th>          <td>lgwom</td>      <th>  R-squared:         </th> <td>  -0.507</td>\n",
       "</tr>\n",
       "<tr>\n",
       "  <th>Model:</th>                 <td>IV2SLS</td>      <th>  Adj. R-squared:    </th> <td>  -0.520</td>\n",
       "</tr>\n",
       "<tr>\n",
       "  <th>Method:</th>               <td>Two Stage</td>    <th>  F-statistic:       </th> <td>     nan</td>\n",
       "</tr>\n",
       "<tr>\n",
       "  <th></th>                    <td>Least Squares</td>  <th>  Prob (F-statistic):</th>  <td>   nan</td> \n",
       "</tr>\n",
       "<tr>\n",
       "  <th>Date:</th>             <td>Thu, 11 Jul 2024</td> <th>                     </th>     <td> </td>   \n",
       "</tr>\n",
       "<tr>\n",
       "  <th>Time:</th>                 <td>15:50:20</td>     <th>                     </th>     <td> </td>   \n",
       "</tr>\n",
       "<tr>\n",
       "  <th>No. Observations:</th>      <td>   330</td>      <th>                     </th>     <td> </td>   \n",
       "</tr>\n",
       "<tr>\n",
       "  <th>Df Residuals:</th>          <td>   327</td>      <th>                     </th>     <td> </td>   \n",
       "</tr>\n",
       "<tr>\n",
       "  <th>Df Model:</th>              <td>     3</td>      <th>                     </th>     <td> </td>   \n",
       "</tr>\n",
       "</table>\n",
       "<table class=\"simpletable\">\n",
       "<tr>\n",
       "        <td></td>          <th>coef</th>     <th>std err</th>      <th>t</th>      <th>P>|t|</th>  <th>[0.025</th>    <th>0.975]</th>  \n",
       "</tr>\n",
       "<tr>\n",
       "  <th>closed</th>       <td>   24.3348</td> <td>    2.925</td> <td>    8.320</td> <td> 0.000</td> <td>   18.581</td> <td>   30.088</td>\n",
       "</tr>\n",
       "<tr>\n",
       "  <th>Brand</th>        <td>   10.7781</td> <td>    2.458</td> <td>    4.385</td> <td> 0.000</td> <td>    5.943</td> <td>   15.614</td>\n",
       "</tr>\n",
       "<tr>\n",
       "  <th>Brand_closed</th> <td>  -33.9338</td> <td>    8.173</td> <td>   -4.152</td> <td> 0.000</td> <td>  -50.012</td> <td>  -17.856</td>\n",
       "</tr>\n",
       "</table>\n",
       "<table class=\"simpletable\">\n",
       "<tr>\n",
       "  <th>Omnibus:</th>       <td>47.369</td> <th>  Durbin-Watson:     </th> <td>   1.897</td>\n",
       "</tr>\n",
       "<tr>\n",
       "  <th>Prob(Omnibus):</th> <td> 0.000</td> <th>  Jarque-Bera (JB):  </th> <td>  49.952</td>\n",
       "</tr>\n",
       "<tr>\n",
       "  <th>Skew:</th>          <td>-0.894</td> <th>  Prob(JB):          </th> <td>1.42e-11</td>\n",
       "</tr>\n",
       "<tr>\n",
       "  <th>Kurtosis:</th>      <td> 2.342</td> <th>  Cond. No.          </th> <td>    3.18</td>\n",
       "</tr>\n",
       "</table>"
      ],
      "text/plain": [
       "<class 'statsmodels.iolib.summary.Summary'>\n",
       "\"\"\"\n",
       "                          IV2SLS Regression Results                           \n",
       "==============================================================================\n",
       "Dep. Variable:                  lgwom   R-squared:                      -0.507\n",
       "Model:                         IV2SLS   Adj. R-squared:                 -0.520\n",
       "Method:                     Two Stage   F-statistic:                       nan\n",
       "                        Least Squares   Prob (F-statistic):                nan\n",
       "Date:                Thu, 11 Jul 2024                                         \n",
       "Time:                        15:50:20                                         \n",
       "No. Observations:                 330                                         \n",
       "Df Residuals:                     327                                         \n",
       "Df Model:                           3                                         \n",
       "================================================================================\n",
       "                   coef    std err          t      P>|t|      [0.025      0.975]\n",
       "--------------------------------------------------------------------------------\n",
       "closed          24.3348      2.925      8.320      0.000      18.581      30.088\n",
       "Brand           10.7781      2.458      4.385      0.000       5.943      15.614\n",
       "Brand_closed   -33.9338      8.173     -4.152      0.000     -50.012     -17.856\n",
       "==============================================================================\n",
       "Omnibus:                       47.369   Durbin-Watson:                   1.897\n",
       "Prob(Omnibus):                  0.000   Jarque-Bera (JB):               49.952\n",
       "Skew:                          -0.894   Prob(JB):                     1.42e-11\n",
       "Kurtosis:                       2.342   Cond. No.                         3.18\n",
       "==============================================================================\n",
       "\"\"\""
      ]
     },
     "execution_count": 25,
     "metadata": {},
     "output_type": "execute_result"
    }
   ],
   "source": [
    "endog_dv2 = df2['lgwom']\n",
    "exog_iv = df2[['closed', 'Brand', 'Brand_closed']]\n",
    "exog_instruments_iv = df2[['genre_closed', 'genre_open', 'Facebook', 'Rating', 'Price']]\n",
    "model_2slsws = IV2SLS(endog=endog_dv2, exog=exog_iv,  instrument=exog_instruments_iv)\n",
    "TSLSws = model_2slsws.fit()\n",
    "TSLSws.summary()"
   ]
  },
  {
   "cell_type": "code",
   "execution_count": 26,
   "id": "d099812c",
   "metadata": {},
   "outputs": [
    {
     "data": {
      "text/html": [
       "<table class=\"simpletable\">\n",
       "<caption>IV2SLS Regression Results</caption>\n",
       "<tr>\n",
       "  <th>Dep. Variable:</th>          <td>lgwom</td>      <th>  R-squared:         </th> <td>  -0.755</td>\n",
       "</tr>\n",
       "<tr>\n",
       "  <th>Model:</th>                 <td>IV2SLS</td>      <th>  Adj. R-squared:    </th> <td>  -0.771</td>\n",
       "</tr>\n",
       "<tr>\n",
       "  <th>Method:</th>               <td>Two Stage</td>    <th>  F-statistic:       </th> <td>     nan</td>\n",
       "</tr>\n",
       "<tr>\n",
       "  <th></th>                    <td>Least Squares</td>  <th>  Prob (F-statistic):</th>  <td>   nan</td> \n",
       "</tr>\n",
       "<tr>\n",
       "  <th>Date:</th>             <td>Thu, 11 Jul 2024</td> <th>                     </th>     <td> </td>   \n",
       "</tr>\n",
       "<tr>\n",
       "  <th>Time:</th>                 <td>15:50:21</td>     <th>                     </th>     <td> </td>   \n",
       "</tr>\n",
       "<tr>\n",
       "  <th>No. Observations:</th>      <td>   330</td>      <th>                     </th>     <td> </td>   \n",
       "</tr>\n",
       "<tr>\n",
       "  <th>Df Residuals:</th>          <td>   327</td>      <th>                     </th>     <td> </td>   \n",
       "</tr>\n",
       "<tr>\n",
       "  <th>Df Model:</th>              <td>     3</td>      <th>                     </th>     <td> </td>   \n",
       "</tr>\n",
       "</table>\n",
       "<table class=\"simpletable\">\n",
       "<tr>\n",
       "       <td></td>         <th>coef</th>     <th>std err</th>      <th>t</th>      <th>P>|t|</th>  <th>[0.025</th>    <th>0.975]</th>  \n",
       "</tr>\n",
       "<tr>\n",
       "  <th>open</th>       <td>   20.6271</td> <td>    2.723</td> <td>    7.575</td> <td> 0.000</td> <td>   15.270</td> <td>   25.984</td>\n",
       "</tr>\n",
       "<tr>\n",
       "  <th>Brand</th>      <td>   15.0102</td> <td>    2.832</td> <td>    5.300</td> <td> 0.000</td> <td>    9.438</td> <td>   20.582</td>\n",
       "</tr>\n",
       "<tr>\n",
       "  <th>Brand_open</th> <td>  -50.2998</td> <td>   16.491</td> <td>   -3.050</td> <td> 0.002</td> <td>  -82.741</td> <td>  -17.859</td>\n",
       "</tr>\n",
       "</table>\n",
       "<table class=\"simpletable\">\n",
       "<tr>\n",
       "  <th>Omnibus:</th>       <td>29.863</td> <th>  Durbin-Watson:     </th> <td>   2.048</td>\n",
       "</tr>\n",
       "<tr>\n",
       "  <th>Prob(Omnibus):</th> <td> 0.000</td> <th>  Jarque-Bera (JB):  </th> <td>  12.379</td>\n",
       "</tr>\n",
       "<tr>\n",
       "  <th>Skew:</th>          <td> 0.241</td> <th>  Prob(JB):          </th> <td> 0.00205</td>\n",
       "</tr>\n",
       "<tr>\n",
       "  <th>Kurtosis:</th>      <td> 2.182</td> <th>  Cond. No.          </th> <td>    3.27</td>\n",
       "</tr>\n",
       "</table>"
      ],
      "text/plain": [
       "<class 'statsmodels.iolib.summary.Summary'>\n",
       "\"\"\"\n",
       "                          IV2SLS Regression Results                           \n",
       "==============================================================================\n",
       "Dep. Variable:                  lgwom   R-squared:                      -0.755\n",
       "Model:                         IV2SLS   Adj. R-squared:                 -0.771\n",
       "Method:                     Two Stage   F-statistic:                       nan\n",
       "                        Least Squares   Prob (F-statistic):                nan\n",
       "Date:                Thu, 11 Jul 2024                                         \n",
       "Time:                        15:50:21                                         \n",
       "No. Observations:                 330                                         \n",
       "Df Residuals:                     327                                         \n",
       "Df Model:                           3                                         \n",
       "==============================================================================\n",
       "                 coef    std err          t      P>|t|      [0.025      0.975]\n",
       "------------------------------------------------------------------------------\n",
       "open          20.6271      2.723      7.575      0.000      15.270      25.984\n",
       "Brand         15.0102      2.832      5.300      0.000       9.438      20.582\n",
       "Brand_open   -50.2998     16.491     -3.050      0.002     -82.741     -17.859\n",
       "==============================================================================\n",
       "Omnibus:                       29.863   Durbin-Watson:                   2.048\n",
       "Prob(Omnibus):                  0.000   Jarque-Bera (JB):               12.379\n",
       "Skew:                           0.241   Prob(JB):                      0.00205\n",
       "Kurtosis:                       2.182   Cond. No.                         3.27\n",
       "==============================================================================\n",
       "\"\"\""
      ]
     },
     "execution_count": 26,
     "metadata": {},
     "output_type": "execute_result"
    }
   ],
   "source": [
    "#Table 5.2 Relationship between beta testing signaling, Brand Equity, and WOM (Table 5.2)\n",
    "endog_dv2 = df2['lgwom']\n",
    "exog_iv2 = df2[['open', 'Brand', 'Brand_open']]\n",
    "exog_instruments_iv = df2[['genre_closed', 'genre_open', 'Facebook', 'Rating', 'Price']]\n",
    "model_2slsws = IV2SLS(endog=endog_dv2, exog=exog_iv2,  instrument=exog_instruments_iv)\n",
    "TSLSws = model_2slsws.fit()\n",
    "TSLSws.summary()"
   ]
  },
  {
   "cell_type": "markdown",
   "id": "247166d5",
   "metadata": {},
   "source": [
    "<b>#Heckman lasso to account for self-selection</b>"
   ]
  },
  {
   "cell_type": "code",
   "execution_count": 27,
   "id": "30b41403",
   "metadata": {
    "scrolled": false
   },
   "outputs": [
    {
     "name": "stdout",
     "output_type": "stream",
     "text": [
      "Optimization terminated successfully.\n",
      "         Current function value: 0.567590\n",
      "         Iterations 5\n",
      "                                 OLS Regression Results                                \n",
      "=======================================================================================\n",
      "Dep. Variable:                lgsales   R-squared (uncentered):                   0.910\n",
      "Model:                            OLS   Adj. R-squared (uncentered):              0.908\n",
      "Method:                 Least Squares   F-statistic:                              819.7\n",
      "Date:                Thu, 11 Jul 2024   Prob (F-statistic):                   1.14e-168\n",
      "Time:                        15:50:23   Log-Likelihood:                         -893.50\n",
      "No. Observations:                 330   AIC:                                      1795.\n",
      "Df Residuals:                     326   BIC:                                      1810.\n",
      "Df Model:                           4                                                  \n",
      "Covariance Type:            nonrobust                                                  \n",
      "==================================================================================\n",
      "                     coef    std err          t      P>|t|      [0.025      0.975]\n",
      "----------------------------------------------------------------------------------\n",
      "closed             3.2142      0.517      6.223      0.000       2.198       4.230\n",
      "Brand              2.2946      0.484      4.739      0.000       1.342       3.247\n",
      "Brand_closed      -0.7242      0.978     -0.740      0.460      -2.649       1.200\n",
      "Heckman_Lambda     2.3309      0.063     37.291      0.000       2.208       2.454\n",
      "==============================================================================\n",
      "Omnibus:                       14.822   Durbin-Watson:                   1.340\n",
      "Prob(Omnibus):                  0.001   Jarque-Bera (JB):               15.616\n",
      "Skew:                          -0.490   Prob(JB):                     0.000406\n",
      "Kurtosis:                       3.416   Cond. No.                         22.7\n",
      "==============================================================================\n",
      "\n",
      "Notes:\n",
      "[1] R² is computed without centering (uncentered) since the model does not contain a constant.\n",
      "[2] Standard Errors assume that the covariance matrix of the errors is correctly specified.\n"
     ]
    },
    {
     "name": "stderr",
     "output_type": "stream",
     "text": [
      "C:\\Users\\ge6256\\AppData\\Local\\Temp\\ipykernel_1904\\1863350322.py:16: SettingWithCopyWarning: \n",
      "A value is trying to be set on a copy of a slice from a DataFrame.\n",
      "Try using .loc[row_indexer,col_indexer] = value instead\n",
      "\n",
      "See the caveats in the documentation: https://pandas.pydata.org/pandas-docs/stable/user_guide/indexing.html#returning-a-view-versus-a-copy\n",
      "  df2['Heckman_Lambda'] = heckman_lambda\n"
     ]
    }
   ],
   "source": [
    "#Heckman lasso to account for self-selection\n",
    "#Heckman model for CLOSED beta testing on SALES\n",
    "#Table 6.1\n",
    "import scipy.stats as stats\n",
    "\n",
    "# Step 1: Estimate a Probit Model (Selection Equation)\n",
    "selection = df2['closed']\n",
    "exogenous = df2[['Facebook', 'genre_closed', 'Price', 'Rating', 'Season_Summer', 'Season_Fall', 'Season_Spring', 'Year_Dummy']]\n",
    "selection_model = sm.Probit(selection, exogenous).fit()\n",
    "\n",
    "# Step 2: Calculate Heckman Lambda for Each Observation\n",
    "probit_coefficients = selection_model.params[['Facebook', 'genre_closed', 'Price', 'Rating', 'Season_Summer', 'Season_Fall', 'Season_Spring', 'Year_Dummy']]\n",
    "heckman_lambda = 1 / stats.norm.cdf(exogenous.dot(probit_coefficients))\n",
    "\n",
    "# Step 3: Create a New Column for Heckman Lambda in the DataFrame\n",
    "df2['Heckman_Lambda'] = heckman_lambda\n",
    "\n",
    "# Step 4: Include Heckman Lambda in Your Regression Model\n",
    "heckman1 = sm.OLS(df2['lgsales'], df2[['closed', 'Brand', 'Brand_closed', 'Heckman_Lambda']]).fit()\n",
    "\n",
    "# Print the results of the regression model with Heckman Lambda\n",
    "print(heckman1.summary())"
   ]
  },
  {
   "cell_type": "code",
   "execution_count": 28,
   "id": "718156f8",
   "metadata": {
    "scrolled": true
   },
   "outputs": [
    {
     "name": "stdout",
     "output_type": "stream",
     "text": [
      "Optimization terminated successfully.\n",
      "         Current function value: 0.506149\n",
      "         Iterations 6\n",
      "                                 OLS Regression Results                                \n",
      "=======================================================================================\n",
      "Dep. Variable:                lgsales   R-squared (uncentered):                   0.707\n",
      "Model:                            OLS   Adj. R-squared (uncentered):              0.703\n",
      "Method:                 Least Squares   F-statistic:                              196.4\n",
      "Date:                Thu, 11 Jul 2024   Prob (F-statistic):                    1.66e-85\n",
      "Time:                        15:50:49   Log-Likelihood:                         -1087.6\n",
      "No. Observations:                 330   AIC:                                      2183.\n",
      "Df Residuals:                     326   BIC:                                      2198.\n",
      "Df Model:                           4                                                  \n",
      "Covariance Type:            nonrobust                                                  \n",
      "===================================================================================\n",
      "                      coef    std err          t      P>|t|      [0.025      0.975]\n",
      "-----------------------------------------------------------------------------------\n",
      "open                9.7465      0.831     11.734      0.000       8.113      11.381\n",
      "Brand               5.5921      0.844      6.623      0.000       3.931       7.253\n",
      "Brand_open         -6.0152      1.926     -3.123      0.002      -9.804      -2.227\n",
      "Heckman_Lambda2     0.6995      0.052     13.497      0.000       0.598       0.801\n",
      "==============================================================================\n",
      "Omnibus:                       97.001   Durbin-Watson:                   1.351\n",
      "Prob(Omnibus):                  0.000   Jarque-Bera (JB):              375.398\n",
      "Skew:                          -1.223   Prob(JB):                     3.04e-82\n",
      "Kurtosis:                       7.617   Cond. No.                         48.5\n",
      "==============================================================================\n",
      "\n",
      "Notes:\n",
      "[1] R² is computed without centering (uncentered) since the model does not contain a constant.\n",
      "[2] Standard Errors assume that the covariance matrix of the errors is correctly specified.\n"
     ]
    },
    {
     "name": "stderr",
     "output_type": "stream",
     "text": [
      "C:\\Users\\ge6256\\AppData\\Local\\Temp\\ipykernel_1904\\925262292.py:11: SettingWithCopyWarning: \n",
      "A value is trying to be set on a copy of a slice from a DataFrame.\n",
      "Try using .loc[row_indexer,col_indexer] = value instead\n",
      "\n",
      "See the caveats in the documentation: https://pandas.pydata.org/pandas-docs/stable/user_guide/indexing.html#returning-a-view-versus-a-copy\n",
      "  df2['Heckman_Lambda2'] = heckman_lambda2\n"
     ]
    }
   ],
   "source": [
    "#Heckman model for OPEN beta testing on SALES\n",
    "# Step 1: Estimate a Probit Model (Selection Equation)\n",
    "selection2 = df2['open']\n",
    "exogenous2 = df2[['Facebook', 'genre_open', 'Price', 'Rating', 'Season_Summer', 'Season_Fall', 'Season_Spring', 'Year_Dummy']]\n",
    "selection_model2 = sm.Probit(selection2, exogenous2).fit()\n",
    "# Step 2: Calculate Heckman Lambda for Each Observation\n",
    "probit_coefficients2= selection_model2.params[['Facebook', 'genre_open', 'Price', 'Rating', 'Season_Summer', 'Season_Fall', 'Season_Spring', 'Year_Dummy']]\n",
    "heckman_lambda2 = 1 / stats.norm.cdf(exogenous2.dot(probit_coefficients2))\n",
    "\n",
    "# Step 3: Create a New Column for Heckman Lambda in the DataFrame\n",
    "df2['Heckman_Lambda2'] = heckman_lambda2\n",
    "\n",
    "# Step 4: Include Heckman Lambda in Your Regression Model\n",
    "heckman2 = sm.OLS(df2['lgsales'], df2[['open', 'Brand', 'Brand_open', 'Heckman_Lambda2']]).fit()\n",
    "\n",
    "# Print the results of the regression model with Heckman Lambda\n",
    "print(heckman2.summary())"
   ]
  },
  {
   "cell_type": "code",
   "execution_count": 29,
   "id": "1bca0881",
   "metadata": {},
   "outputs": [
    {
     "ename": "NameError",
     "evalue": "name 'test_statistic' is not defined",
     "output_type": "error",
     "traceback": [
      "\u001b[1;31m---------------------------------------------------------------------------\u001b[0m",
      "\u001b[1;31mNameError\u001b[0m                                 Traceback (most recent call last)",
      "Cell \u001b[1;32mIn[29], line 11\u001b[0m\n\u001b[0;32m      9\u001b[0m test_statistic2 \u001b[38;5;241m=\u001b[39m (probit_params \u001b[38;5;241m@\u001b[39m np\u001b[38;5;241m.\u001b[39mlinalg\u001b[38;5;241m.\u001b[39minv(probit_cov) \u001b[38;5;241m@\u001b[39m probit_params\u001b[38;5;241m.\u001b[39mT)\n\u001b[0;32m     10\u001b[0m \u001b[38;5;66;03m# Calculate the p-value using the chi-square distribution\u001b[39;00m\n\u001b[1;32m---> 11\u001b[0m p_value \u001b[38;5;241m=\u001b[39m \u001b[38;5;241m1\u001b[39m \u001b[38;5;241m-\u001b[39m stats\u001b[38;5;241m.\u001b[39mchi2\u001b[38;5;241m.\u001b[39mcdf(\u001b[43mtest_statistic\u001b[49m, df\u001b[38;5;241m=\u001b[39m\u001b[38;5;28mlen\u001b[39m(probit_params))\n\u001b[0;32m     13\u001b[0m \u001b[38;5;66;03m# Print the test statistic and p-value\u001b[39;00m\n\u001b[0;32m     14\u001b[0m \u001b[38;5;28mprint\u001b[39m(\u001b[38;5;124mf\u001b[39m\u001b[38;5;124m\"\u001b[39m\u001b[38;5;124mTest Statistic: \u001b[39m\u001b[38;5;132;01m{\u001b[39;00mtest_statistic2\u001b[38;5;132;01m}\u001b[39;00m\u001b[38;5;124m\"\u001b[39m)\n",
      "\u001b[1;31mNameError\u001b[0m: name 'test_statistic' is not defined"
     ]
    }
   ],
   "source": [
    "#Wald joint test of significance for assumptions\n",
    "probit_params = selection_model2.params\n",
    "probit_cov = selection_model2.cov_params()\n",
    "# Define the null hypothesis: all coefficients are jointly equal to zero\n",
    "# This implies that the error terms are normally distributed\n",
    "null_hypothesis = 'Facebook = genre_closed = Price = Rating = 0'\n",
    "\n",
    "# Calculate the test statistic using the Wald test formula\n",
    "test_statistic2 = (probit_params @ np.linalg.inv(probit_cov) @ probit_params.T)\n",
    "# Calculate the p-value using the chi-square distribution\n",
    "p_value = 1 - stats.chi2.cdf(test_statistic, df=len(probit_params))\n",
    "\n",
    "# Print the test statistic and p-value\n",
    "print(f\"Test Statistic: {test_statistic2}\")\n",
    "print(f\"P-Value: {p_value}\")\n",
    "print(f\"Null Hypothesis: {null_hypothesis}\")"
   ]
  },
  {
   "cell_type": "code",
   "execution_count": 30,
   "id": "2bbaabf3",
   "metadata": {
    "scrolled": true
   },
   "outputs": [
    {
     "name": "stdout",
     "output_type": "stream",
     "text": [
      "                                 OLS Regression Results                                \n",
      "=======================================================================================\n",
      "Dep. Variable:                  lgwom   R-squared (uncentered):                   0.904\n",
      "Model:                            OLS   Adj. R-squared (uncentered):              0.903\n",
      "Method:                 Least Squares   F-statistic:                              765.8\n",
      "Date:                Thu, 11 Jul 2024   Prob (F-statistic):                   2.62e-164\n",
      "Time:                        15:51:01   Log-Likelihood:                         -752.31\n",
      "No. Observations:                 330   AIC:                                      1513.\n",
      "Df Residuals:                     326   BIC:                                      1528.\n",
      "Df Model:                           4                                                  \n",
      "Covariance Type:            nonrobust                                                  \n",
      "==================================================================================\n",
      "                     coef    std err          t      P>|t|      [0.025      0.975]\n",
      "----------------------------------------------------------------------------------\n",
      "closed             2.0353      0.337      6.045      0.000       1.373       2.698\n",
      "Brand              1.5350      0.316      4.864      0.000       0.914       2.156\n",
      "Brand_closed      -0.3701      0.638     -0.580      0.562      -1.625       0.884\n",
      "Heckman_Lambda     1.4589      0.041     35.803      0.000       1.379       1.539\n",
      "==============================================================================\n",
      "Omnibus:                        5.790   Durbin-Watson:                   1.569\n",
      "Prob(Omnibus):                  0.055   Jarque-Bera (JB):                5.578\n",
      "Skew:                          -0.310   Prob(JB):                       0.0615\n",
      "Kurtosis:                       3.142   Cond. No.                         22.7\n",
      "==============================================================================\n",
      "\n",
      "Notes:\n",
      "[1] R² is computed without centering (uncentered) since the model does not contain a constant.\n",
      "[2] Standard Errors assume that the covariance matrix of the errors is correctly specified.\n"
     ]
    }
   ],
   "source": [
    "# Include CLOSED Heckman Lambda in Your Regression Model for WOM\n",
    "# Table 6.2\n",
    "heckmanwom = sm.OLS(df2['lgwom'], df2[['closed', 'Brand', 'Brand_closed', 'Heckman_Lambda']]).fit()\n",
    "\n",
    "# Print the results of the regression model with Heckman Lambda\n",
    "print(heckmanwom.summary())"
   ]
  },
  {
   "cell_type": "code",
   "execution_count": 31,
   "id": "c8ffb490",
   "metadata": {},
   "outputs": [
    {
     "name": "stdout",
     "output_type": "stream",
     "text": [
      "                                 OLS Regression Results                                \n",
      "=======================================================================================\n",
      "Dep. Variable:                  lgwom   R-squared (uncentered):                   0.718\n",
      "Model:                            OLS   Adj. R-squared (uncentered):              0.715\n",
      "Method:                 Least Squares   F-statistic:                              208.0\n",
      "Date:                Thu, 11 Jul 2024   Prob (F-statistic):                    2.22e-88\n",
      "Time:                        15:51:02   Log-Likelihood:                         -929.52\n",
      "No. Observations:                 330   AIC:                                      1867.\n",
      "Df Residuals:                     326   BIC:                                      1882.\n",
      "Df Model:                           4                                                  \n",
      "Covariance Type:            nonrobust                                                  \n",
      "===================================================================================\n",
      "                      coef    std err          t      P>|t|      [0.025      0.975]\n",
      "-----------------------------------------------------------------------------------\n",
      "open                6.1125      0.514     11.881      0.000       5.100       7.125\n",
      "Brand               3.5025      0.523      6.697      0.000       2.474       4.531\n",
      "Brand_open         -3.8093      1.193     -3.193      0.002      -6.156      -1.463\n",
      "Heckman_Lambda2     0.4528      0.032     14.105      0.000       0.390       0.516\n",
      "==============================================================================\n",
      "Omnibus:                       88.506   Durbin-Watson:                   1.411\n",
      "Prob(Omnibus):                  0.000   Jarque-Bera (JB):              308.704\n",
      "Skew:                          -1.144   Prob(JB):                     9.24e-68\n",
      "Kurtosis:                       7.149   Cond. No.                         48.5\n",
      "==============================================================================\n",
      "\n",
      "Notes:\n",
      "[1] R² is computed without centering (uncentered) since the model does not contain a constant.\n",
      "[2] Standard Errors assume that the covariance matrix of the errors is correctly specified.\n"
     ]
    }
   ],
   "source": [
    "# Include open Heckman Lambda in Your Regression Model for WOM\n",
    "heckmanwom2 = sm.OLS(df2['lgwom'], df2[['open', 'Brand', 'Brand_open', 'Heckman_Lambda2']]).fit()\n",
    "\n",
    "# Print the results of the regression model with Heckman Lambda\n",
    "print(heckmanwom2.summary())"
   ]
  },
  {
   "cell_type": "markdown",
   "id": "91af8990",
   "metadata": {},
   "source": [
    "<B>#Vizualize sales of branded and undranded games by week<b>"
   ]
  },
  {
   "cell_type": "code",
   "execution_count": 33,
   "id": "5f5ea625",
   "metadata": {
    "scrolled": true
   },
   "outputs": [
    {
     "name": "stdout",
     "output_type": "stream",
     "text": [
      "Figure 4. Sales over the first ten weeks after product launch by Brand\n"
     ]
    },
    {
     "data": {
      "image/png": "[encoded data removed]",
      "text/plain": [
       "<Figure size 1000x600 with 1 Axes>"
      ]
     },
     "metadata": {},
     "output_type": "display_data"
    }
   ],
   "source": [
    "import pandas as pd\n",
    "import matplotlib.pyplot as plt\n",
    "\n",
    "weeks = ['Week1', 'Week2', 'Week3', 'Week4', 'Week5', 'Week6', 'Week7', 'Week8', 'Week9', 'Week10']\n",
    "grouped = df.groupby('Brand')[weeks].mean()\n",
    "# Transpose the DataFrame for easier plotting\n",
    "grouped = grouped.T\n",
    "\n",
    "# Plot the data\n",
    "plt.figure(figsize=(10, 6))\n",
    "plt.plot(grouped.index, grouped[0], marker='o', label='Less known brands')\n",
    "plt.plot(grouped.index, grouped[1], marker='o', label='Top-10 publisher brands')\n",
    "\n",
    "# Adding titles and labels\n",
    "plt.title('Average Sales over the first ten weeks after launch by Brand')\n",
    "plt.xlabel('Weeks')\n",
    "plt.ylabel('Average Sales')\n",
    "plt.legend(title='Brand')\n",
    "plt.grid(True)\n",
    "\n",
    "# Show the plot\n",
    "print('Figure 4. Sales over the first ten weeks after product launch by Brand')\n",
    "plt.show()"
   ]
  },
  {
   "cell_type": "code",
   "execution_count": 34,
   "id": "f47cb0b8",
   "metadata": {},
   "outputs": [
    {
     "name": "stdout",
     "output_type": "stream",
     "text": [
      "Sales over the first ten weeks after product launch by beta testing strategy\n"
     ]
    },
    {
     "data": {
      "image/png": "[encoded data removed]",
      "text/plain": [
       "<Figure size 1000x600 with 1 Axes>"
      ]
     },
     "metadata": {},
     "output_type": "display_data"
    }
   ],
   "source": [
    "weeks = ['Week1', 'Week2', 'Week3', 'Week4', 'Week5', 'Week6', 'Week7', 'Week8', 'Week9', 'Week10']\n",
    "grouped_closed = df.groupby('closed')[weeks].mean()\n",
    "grouped_open = df.groupby('open')[weeks].mean()\n",
    "\n",
    "# Transpose the DataFrames for easier plotting\n",
    "grouped_closed = grouped_closed.T\n",
    "grouped_open = grouped_open.T\n",
    "\n",
    "# Plot the data\n",
    "plt.figure(figsize=(10, 6))\n",
    "plt.plot(grouped_closed.index, grouped_closed[1], marker='o', label='Closed beta testing')\n",
    "plt.plot(grouped_open.index, grouped_open[1], marker='o', label='Open beta testing') \n",
    "plt.plot(grouped_open.index, grouped_open[0], marker='o', label='No public beta')\n",
    "\n",
    "# Adding titles and labels\n",
    "plt.title('Average Sales Over the First Ten Weeks After Launch by Beta Testing Strategy')\n",
    "plt.xlabel('Weeks')\n",
    "plt.ylabel('Average Sales')\n",
    "plt.legend(title='Beta Testing Strategy')\n",
    "plt.grid(True)\n",
    "\n",
    "# Show the plot\n",
    "print('Sales over the first ten weeks after product launch by beta testing strategy')\n",
    "plt.show()"
   ]
  },
  {
   "cell_type": "markdown",
   "id": "c1a4db44",
   "metadata": {},
   "source": [
    "<b>#Analyze the effect of beta testing on weekly sales</b>"
   ]
  },
  {
   "cell_type": "code",
   "execution_count": 35,
   "id": "02f9aad0",
   "metadata": {},
   "outputs": [
    {
     "name": "stdout",
     "output_type": "stream",
     "text": [
      "                          Name  Rating  Price  Userscore  User_Reviews  \\\n",
      "0                     Okami HD    92.0  19.99        7.7         140.0   \n",
      "1                STEINS;GATE 0    90.0  34.99        8.1           7.0   \n",
      "2                    Bayonetta    90.0  19.99        8.2         343.0   \n",
      "3  Out of the Park Baseball 19    90.0  19.99        5.0           4.0   \n",
      "4                  Opus Magnum    90.0  19.99        8.3           8.0   \n",
      "\n",
      "                   Publisher  Facebook  Brand  Franchise   Sales  ...  \\\n",
      "0                     CAPCOM   1187880      1          0  167000  ...   \n",
      "1             Spike Chunsoft     15132      0          1   36000  ...   \n",
      "2                       SEGA   1762888      1          0  623000  ...   \n",
      "3  Out of the Park Developme      8062      0          1  124000  ...   \n",
      "4                Zachtronics      1273      0          0  122000  ...   \n",
      "\n",
      "     lgWeek1    lgWeek2    lgWeek3    lgWeek4    lgWeek5    lgWeek6  \\\n",
      "0  11.211834  11.373675  11.451061  11.532738  11.561725  11.561725   \n",
      "1   9.680406   9.852247   9.903538   9.903538   9.903538   9.903538   \n",
      "2        NaN        NaN        NaN        NaN        NaN        NaN   \n",
      "3   8.987322   8.987322   8.987322   8.987322   9.105091   9.105091   \n",
      "4  10.691968  10.839601  10.950824  11.002117  11.002117  11.066654   \n",
      "\n",
      "     lgWeek7    lgWeek8    lgWeek9   lgWeek10  \n",
      "0  11.571204  11.711785  11.856522  11.951187  \n",
      "1   9.903538   9.952325   9.952325   9.998843  \n",
      "2  12.122696  12.133507  12.160034  12.264346  \n",
      "3   9.210440   9.210440   9.305741   9.392745  \n",
      "4  11.097425  11.082158  11.050906  11.141876  \n",
      "\n",
      "[5 rows x 55 columns]\n"
     ]
    },
    {
     "name": "stderr",
     "output_type": "stream",
     "text": [
      "C:\\Users\\ge6256\\AppData\\Local\\Temp\\ipykernel_1904\\3704067718.py:6: SettingWithCopyWarning: \n",
      "A value is trying to be set on a copy of a slice from a DataFrame.\n",
      "Try using .loc[row_indexer,col_indexer] = value instead\n",
      "\n",
      "See the caveats in the documentation: https://pandas.pydata.org/pandas-docs/stable/user_guide/indexing.html#returning-a-view-versus-a-copy\n",
      "  df2[log_week_col] = np.log1p(df2[week_col])\n",
      "C:\\Users\\ge6256\\AppData\\Local\\Temp\\ipykernel_1904\\3704067718.py:6: SettingWithCopyWarning: \n",
      "A value is trying to be set on a copy of a slice from a DataFrame.\n",
      "Try using .loc[row_indexer,col_indexer] = value instead\n",
      "\n",
      "See the caveats in the documentation: https://pandas.pydata.org/pandas-docs/stable/user_guide/indexing.html#returning-a-view-versus-a-copy\n",
      "  df2[log_week_col] = np.log1p(df2[week_col])\n",
      "C:\\Users\\ge6256\\AppData\\Local\\Temp\\ipykernel_1904\\3704067718.py:6: SettingWithCopyWarning: \n",
      "A value is trying to be set on a copy of a slice from a DataFrame.\n",
      "Try using .loc[row_indexer,col_indexer] = value instead\n",
      "\n",
      "See the caveats in the documentation: https://pandas.pydata.org/pandas-docs/stable/user_guide/indexing.html#returning-a-view-versus-a-copy\n",
      "  df2[log_week_col] = np.log1p(df2[week_col])\n",
      "C:\\Users\\ge6256\\AppData\\Local\\Temp\\ipykernel_1904\\3704067718.py:6: SettingWithCopyWarning: \n",
      "A value is trying to be set on a copy of a slice from a DataFrame.\n",
      "Try using .loc[row_indexer,col_indexer] = value instead\n",
      "\n",
      "See the caveats in the documentation: https://pandas.pydata.org/pandas-docs/stable/user_guide/indexing.html#returning-a-view-versus-a-copy\n",
      "  df2[log_week_col] = np.log1p(df2[week_col])\n",
      "C:\\Users\\ge6256\\AppData\\Local\\Temp\\ipykernel_1904\\3704067718.py:6: SettingWithCopyWarning: \n",
      "A value is trying to be set on a copy of a slice from a DataFrame.\n",
      "Try using .loc[row_indexer,col_indexer] = value instead\n",
      "\n",
      "See the caveats in the documentation: https://pandas.pydata.org/pandas-docs/stable/user_guide/indexing.html#returning-a-view-versus-a-copy\n",
      "  df2[log_week_col] = np.log1p(df2[week_col])\n",
      "C:\\Users\\ge6256\\AppData\\Local\\Temp\\ipykernel_1904\\3704067718.py:6: SettingWithCopyWarning: \n",
      "A value is trying to be set on a copy of a slice from a DataFrame.\n",
      "Try using .loc[row_indexer,col_indexer] = value instead\n",
      "\n",
      "See the caveats in the documentation: https://pandas.pydata.org/pandas-docs/stable/user_guide/indexing.html#returning-a-view-versus-a-copy\n",
      "  df2[log_week_col] = np.log1p(df2[week_col])\n",
      "C:\\Users\\ge6256\\AppData\\Local\\Temp\\ipykernel_1904\\3704067718.py:6: SettingWithCopyWarning: \n",
      "A value is trying to be set on a copy of a slice from a DataFrame.\n",
      "Try using .loc[row_indexer,col_indexer] = value instead\n",
      "\n",
      "See the caveats in the documentation: https://pandas.pydata.org/pandas-docs/stable/user_guide/indexing.html#returning-a-view-versus-a-copy\n",
      "  df2[log_week_col] = np.log1p(df2[week_col])\n",
      "C:\\Users\\ge6256\\AppData\\Local\\Temp\\ipykernel_1904\\3704067718.py:6: SettingWithCopyWarning: \n",
      "A value is trying to be set on a copy of a slice from a DataFrame.\n",
      "Try using .loc[row_indexer,col_indexer] = value instead\n",
      "\n",
      "See the caveats in the documentation: https://pandas.pydata.org/pandas-docs/stable/user_guide/indexing.html#returning-a-view-versus-a-copy\n",
      "  df2[log_week_col] = np.log1p(df2[week_col])\n",
      "C:\\Users\\ge6256\\AppData\\Local\\Temp\\ipykernel_1904\\3704067718.py:6: SettingWithCopyWarning: \n",
      "A value is trying to be set on a copy of a slice from a DataFrame.\n",
      "Try using .loc[row_indexer,col_indexer] = value instead\n",
      "\n",
      "See the caveats in the documentation: https://pandas.pydata.org/pandas-docs/stable/user_guide/indexing.html#returning-a-view-versus-a-copy\n",
      "  df2[log_week_col] = np.log1p(df2[week_col])\n",
      "C:\\Users\\ge6256\\AppData\\Local\\Temp\\ipykernel_1904\\3704067718.py:6: SettingWithCopyWarning: \n",
      "A value is trying to be set on a copy of a slice from a DataFrame.\n",
      "Try using .loc[row_indexer,col_indexer] = value instead\n",
      "\n",
      "See the caveats in the documentation: https://pandas.pydata.org/pandas-docs/stable/user_guide/indexing.html#returning-a-view-versus-a-copy\n",
      "  df2[log_week_col] = np.log1p(df2[week_col])\n"
     ]
    }
   ],
   "source": [
    "#log-transform weekly sales data\n",
    "for i in range(1, 11):\n",
    "    week_col = f'Week{i}'\n",
    "    log_week_col = f'lg{week_col}'\n",
    "    # Use np.log1p to handle zero sales values (log(1 + x) instead of log(x))\n",
    "    df2[log_week_col] = np.log1p(df2[week_col])\n",
    "\n",
    "# Display the transformed DataFrame\n",
    "print(df2.head())"
   ]
  },
  {
   "cell_type": "code",
   "execution_count": 36,
   "id": "ebeca497",
   "metadata": {
    "scrolled": true
   },
   "outputs": [
    {
     "name": "stdout",
     "output_type": "stream",
     "text": [
      "          Variable      Week1      Week2      Week3      Week4      Week5  \\\n",
      "0             open   9.107***   9.122***   9.165***   9.204***   9.240***   \n",
      "1            Brand   5.293***   5.286***   5.518***   5.619***   5.654***   \n",
      "2       Brand_open  -6.526***  -6.354***  -6.551***  -6.456***  -6.536***   \n",
      "3  Heckman_Lambda2   0.570***   0.587***   0.585***   0.586***   0.594***   \n",
      "\n",
      "       Week6      Week7      Week8      Week9     Week10  \n",
      "0   9.214***   9.248***   9.294***   9.266***   9.260***  \n",
      "1   5.560***   5.622***   5.608***   5.613***   5.630***  \n",
      "2  -6.438***  -6.460***  -6.494***  -6.485***  -6.539***  \n",
      "3   0.611***   0.609***   0.615***   0.621***   0.636***  \n"
     ]
    }
   ],
   "source": [
    "#Fit the Heckman model WEEKLY OPEN SALES for each week and store the results\n",
    "results = {}\n",
    "for i in range(1, 11):\n",
    "    week_col = f'lgWeek{i}'\n",
    "    # Drop rows with missing values for the current week\n",
    "    df2_week = df2.dropna(subset=[week_col])\n",
    "    model2 = sm.OLS(df2_week[week_col], df2_week[['open', 'Brand', 'Brand_open', 'Heckman_Lambda2']]).fit()\n",
    "    results[week_col] = model2\n",
    "\n",
    "#Create a summary table with WEEKLY OPEN SALES coefficients and significance levels\n",
    "coefficients = ['open', 'Brand', 'Brand_open', 'Heckman_Lambda2']\n",
    "summary_table = pd.DataFrame(columns=['Variable'] + [f'Week{i}' for i in range(1, 11)])\n",
    "\n",
    "for coef_name in coefficients:\n",
    "    coef_values = []\n",
    "    for week_col in results.keys():\n",
    "        result = results[week_col]\n",
    "        coef_value = result.params.get(coef_name, '-')\n",
    "        if isinstance(coef_value, (int, float)):\n",
    "            coef_value = round(coef_value, 3)\n",
    "            p_value = result.pvalues.get(coef_name, 1.0)\n",
    "            significance_level = ''\n",
    "            if p_value < 0.01:\n",
    "                significance_level = '***'\n",
    "            elif p_value < 0.05:\n",
    "                significance_level = '**'\n",
    "            elif p_value < 0.1:\n",
    "                significance_level = '*'\n",
    "            coef_values.append(f\"{coef_value:.3f}{significance_level}\")\n",
    "        else:\n",
    "            coef_values.append('-')\n",
    "    summary_table.loc[len(summary_table)] = [coef_name] + coef_values\n",
    "\n",
    "# Display the summary table\n",
    "print(summary_table)"
   ]
  },
  {
   "cell_type": "code",
   "execution_count": 37,
   "id": "9b56595f",
   "metadata": {},
   "outputs": [
    {
     "data": {
      "image/png": "[encoded data removed]",
      "text/plain": [
       "<Figure size 1000x600 with 1 Axes>"
      ]
     },
     "metadata": {},
     "output_type": "display_data"
    }
   ],
   "source": [
    "#Plot the WEEKLY OPEN SALES coefficients of Brand_open with confidence intervals\n",
    "weeks = [f'Week{i}' for i in range(1, 11)]\n",
    "coefficients = [results[f'lg{week}'].params['Brand_open'] for week in weeks]\n",
    "conf_intervals = [results[f'lg{week}'].conf_int().loc['Brand_open'] for week in weeks]\n",
    "\n",
    "lower_bounds = [conf[0] for conf in conf_intervals]\n",
    "upper_bounds = [conf[1] for conf in conf_intervals]\n",
    "\n",
    "plt.figure(figsize=(10, 6))\n",
    "plt.errorbar(weeks, coefficients, yerr=[np.array(coefficients) - np.array(lower_bounds), np.array(upper_bounds) - np.array(coefficients)], fmt='o', capsize=5)\n",
    "plt.axhline(0, color='gray', linestyle='--', linewidth=1)\n",
    "plt.xlabel('Week')\n",
    "plt.ylabel('Coefficient of Brand_open')\n",
    "plt.title('Effect of Brand_open on Weekly Log Sales')\n",
    "plt.xticks(rotation=45)\n",
    "plt.grid(True)\n",
    "plt.show()"
   ]
  },
  {
   "cell_type": "code",
   "execution_count": 38,
   "id": "b29a6d7f",
   "metadata": {},
   "outputs": [
    {
     "name": "stdout",
     "output_type": "stream",
     "text": [
      "Table X. Effect of closed beta testing on weekly sales\n",
      "         Variable     Week1     Week2     Week3     Week4     Week5     Week6  \\\n",
      "0          closed  2.647***  2.636***  2.703***  2.900***  3.145***  3.046***   \n",
      "1           Brand  1.796***  1.868***  1.926***  2.157***  2.363***  2.239***   \n",
      "2    Brand_closed     0.094     0.113    -0.199    -0.916    -1.205    -1.071   \n",
      "3  Heckman_Lambda  2.201***  2.220***  2.224***  2.203***  2.151***  2.194***   \n",
      "\n",
      "      Week7     Week8     Week9    Week10  \n",
      "0  3.097***  3.091***  3.120***  3.473***  \n",
      "1  2.221***  2.159***  2.215***  2.507***  \n",
      "2    -1.049    -1.025    -1.074    -1.446  \n",
      "3  2.191***  2.215***  2.217***  2.149***  \n"
     ]
    }
   ],
   "source": [
    "#Fit the WEEKLY CLOSED SALES Heckman model for each week and store the results\n",
    "resultsc = {}\n",
    "for i in range(1, 11):\n",
    "    week_col = f'lgWeek{i}'\n",
    "    # Drop rows with missing values for the current week\n",
    "    df2_week = df2.dropna(subset=[week_col])\n",
    "    model = sm.OLS(df2_week[week_col], df2_week[['closed', 'Brand', 'Brand_closed', 'Heckman_Lambda']]).fit()\n",
    "    resultsc[week_col] = model\n",
    "\n",
    "#Create a summary table with WEEKLY OPEN SALES coefficients and significance levels\n",
    "coefficients = ['closed', 'Brand', 'Brand_closed', 'Heckman_Lambda']\n",
    "summary_table = pd.DataFrame(columns=['Variable'] + [f'Week{i}' for i in range(1, 11)])\n",
    "\n",
    "for coef_name in coefficients:\n",
    "    coef_values = []\n",
    "    for week_col in results.keys():\n",
    "        result = resultsc[week_col]\n",
    "        coef_value = result.params.get(coef_name, '-')\n",
    "        if isinstance(coef_value, (int, float)):\n",
    "            coef_value = round(coef_value, 3)\n",
    "            p_value = result.pvalues.get(coef_name, 1.0)\n",
    "            significance_level = ''\n",
    "            if p_value < 0.01:\n",
    "                significance_level = '***'\n",
    "            elif p_value < 0.05:\n",
    "                significance_level = '**'\n",
    "            elif p_value < 0.1:\n",
    "                significance_level = '*'\n",
    "            coef_values.append(f\"{coef_value:.3f}{significance_level}\")\n",
    "        else:\n",
    "            coef_values.append('-')\n",
    "    summary_table.loc[len(summary_table)] = [coef_name] + coef_values\n",
    "\n",
    "# Display the summary table\n",
    "print('Table X. Effect of closed beta testing on weekly sales')\n",
    "print(summary_table)"
   ]
  },
  {
   "cell_type": "code",
   "execution_count": 39,
   "id": "44d775df",
   "metadata": {},
   "outputs": [
    {
     "data": {
      "image/png": "[encoded data removed]",
      "text/plain": [
       "<Figure size 1000x600 with 1 Axes>"
      ]
     },
     "metadata": {},
     "output_type": "display_data"
    }
   ],
   "source": [
    "#Plot the WEEKLY OPEN SALES coefficients of Brand_open with confidence intervals\n",
    "weeks = [f'Week{i}' for i in range(1, 11)]\n",
    "coefficients = [resultsc[f'lg{week}'].params['Brand_closed'] for week in weeks]\n",
    "conf_intervals = [resultsc[f'lg{week}'].conf_int().loc['Brand_closed'] for week in weeks]\n",
    "\n",
    "lower_bounds = [conf[0] for conf in conf_intervals]\n",
    "upper_bounds = [conf[1] for conf in conf_intervals]\n",
    "\n",
    "plt.figure(figsize=(10, 6))\n",
    "plt.errorbar(weeks, coefficients, yerr=[np.array(coefficients) - np.array(lower_bounds), np.array(upper_bounds) - np.array(coefficients)], fmt='o', capsize=5)\n",
    "plt.axhline(0, color='gray', linestyle='--', linewidth=1)\n",
    "plt.xlabel('Week')\n",
    "plt.ylabel('Coefficient of Brand:closed')\n",
    "plt.title('Effect of Brand:closed on Weekly Log Sales')\n",
    "plt.xticks(rotation=45)\n",
    "plt.grid(True)\n",
    "plt.show()"
   ]
  },
  {
   "cell_type": "code",
   "execution_count": 40,
   "id": "4e92df78",
   "metadata": {},
   "outputs": [
    {
     "data": {
      "image/png": "[encoded data removed]",
      "text/plain": [
       "<Figure size 1200x800 with 1 Axes>"
      ]
     },
     "metadata": {},
     "output_type": "display_data"
    }
   ],
   "source": [
    "# Step 5: Plot the coefficients of Brand_open and Brand_closed with confidence intervals\n",
    "weeks = [f'Week{i}' for i in range(1, 11)]\n",
    "\n",
    "# Extract coefficients and confidence intervals for Brand_open\n",
    "coefficients_open = [results[f'lg{week}'].params['Brand_open'] for week in weeks]\n",
    "conf_intervals_open = [results[f'lg{week}'].conf_int().loc['Brand_open'] for week in weeks]\n",
    "lower_bounds_open = [conf[0] for conf in conf_intervals_open]\n",
    "upper_bounds_open = [conf[1] for conf in conf_intervals_open]\n",
    "\n",
    "# Extract coefficients and confidence intervals for Brand_closed\n",
    "coefficients_closed = [resultsc[f'lg{week}'].params['Brand_closed'] for week in weeks]\n",
    "conf_intervals_closed = [resultsc[f'lg{week}'].conf_int().loc['Brand_closed'] for week in weeks]\n",
    "lower_bounds_closed = [conf[0] for conf in conf_intervals_closed]\n",
    "upper_bounds_closed = [conf[1] for conf in conf_intervals_closed]\n",
    "\n",
    "plt.figure(figsize=(12, 8))\n",
    "\n",
    "# Plot Brand_open\n",
    "plt.errorbar(weeks, coefficients_open, yerr=[np.array(coefficients_open) - np.array(lower_bounds_open), np.array(upper_bounds_open) - np.array(coefficients_open)], fmt='o', capsize=5, label='Brand_open', color='blue')\n",
    "\n",
    "# Plot Brand_closed\n",
    "plt.errorbar(weeks, coefficients_closed, yerr=[np.array(coefficients_closed) - np.array(lower_bounds_closed), np.array(upper_bounds_closed) - np.array(coefficients_closed)], fmt='o', capsize=5, label='Brand_closed', color='red')\n",
    "\n",
    "plt.axhline(0, color='gray', linestyle='--', linewidth=1)\n",
    "plt.xlabel('Week')\n",
    "plt.ylabel('Coefficient')\n",
    "plt.title('Effect of Brand_open and Brand_closed on Weekly Log Sales')\n",
    "plt.legend()\n",
    "plt.xticks(rotation=45)\n",
    "plt.grid(True)\n",
    "plt.show()"
   ]
  },
  {
   "cell_type": "code",
   "execution_count": 41,
   "id": "9a75095f",
   "metadata": {},
   "outputs": [
    {
     "ename": "NameError",
     "evalue": "name 'x' is not defined",
     "output_type": "error",
     "traceback": [
      "\u001b[1;31m---------------------------------------------------------------------------\u001b[0m",
      "\u001b[1;31mNameError\u001b[0m                                 Traceback (most recent call last)",
      "Cell \u001b[1;32mIn[41], line 17\u001b[0m\n\u001b[0;32m     14\u001b[0m plt\u001b[38;5;241m.\u001b[39mfigure(figsize\u001b[38;5;241m=\u001b[39m(\u001b[38;5;241m12\u001b[39m, \u001b[38;5;241m8\u001b[39m))\n\u001b[0;32m     16\u001b[0m \u001b[38;5;66;03m# Plot open\u001b[39;00m\n\u001b[1;32m---> 17\u001b[0m plt\u001b[38;5;241m.\u001b[39mplot(\u001b[43mx\u001b[49m, coefficients_open, label\u001b[38;5;241m=\u001b[39m\u001b[38;5;124m'\u001b[39m\u001b[38;5;124mopen\u001b[39m\u001b[38;5;124m'\u001b[39m, color\u001b[38;5;241m=\u001b[39m\u001b[38;5;124m'\u001b[39m\u001b[38;5;124mblue\u001b[39m\u001b[38;5;124m'\u001b[39m)\n\u001b[0;32m     18\u001b[0m plt\u001b[38;5;241m.\u001b[39mfill_between(x, lower_bounds_open, upper_bounds_open, color\u001b[38;5;241m=\u001b[39m\u001b[38;5;124m'\u001b[39m\u001b[38;5;124mblue\u001b[39m\u001b[38;5;124m'\u001b[39m, alpha\u001b[38;5;241m=\u001b[39m\u001b[38;5;241m0.2\u001b[39m)\n\u001b[0;32m     20\u001b[0m \u001b[38;5;66;03m# Plot closed\u001b[39;00m\n",
      "\u001b[1;31mNameError\u001b[0m: name 'x' is not defined"
     ]
    },
    {
     "data": {
      "text/plain": [
       "<Figure size 1200x800 with 0 Axes>"
      ]
     },
     "metadata": {},
     "output_type": "display_data"
    }
   ],
   "source": [
    "# Plot the coefficients of open and closed with confidence intervals as shaded areas\n",
    "# Extract coefficients and confidence intervals for open\n",
    "coefficients_open = [results[f'lg{week}'].params['open'] for week in weeks]\n",
    "conf_intervals_open = [results[f'lg{week}'].conf_int().loc['open'] for week in weeks]\n",
    "lower_bounds_open = [conf[0] for conf in conf_intervals_open]\n",
    "upper_bounds_open = [conf[1] for conf in conf_intervals_open]\n",
    "\n",
    "# Extract coefficients and confidence intervals for closed\n",
    "coefficients_closed = [resultsc[f'lg{week}'].params['closed'] for week in weeks]\n",
    "conf_intervals_closed = [resultsc[f'lg{week}'].conf_int().loc['closed'] for week in weeks]\n",
    "lower_bounds_closed = [conf[0] for conf in conf_intervals_closed]\n",
    "upper_bounds_closed = [conf[1] for conf in conf_intervals_closed]\n",
    "\n",
    "plt.figure(figsize=(12, 8))\n",
    "\n",
    "# Plot open\n",
    "plt.plot(x, coefficients_open, label='open', color='blue')\n",
    "plt.fill_between(x, lower_bounds_open, upper_bounds_open, color='blue', alpha=0.2)\n",
    "\n",
    "# Plot closed\n",
    "plt.plot(x, coefficients_closed, label='closed', color='red')\n",
    "plt.fill_between(x, lower_bounds_closed, upper_bounds_closed, color='red', alpha=0.2)\n",
    "\n",
    "plt.axhline(0, color='gray', linestyle='--', linewidth=1)\n",
    "plt.xlabel('Week')\n",
    "plt.ylabel('log sales coefficient')\n",
    "plt.title('Effect of open and closed beta testing on Weekly Log Sales, NON-TOP-10 brands, ten weeks after product launch')\n",
    "plt.legend()\n",
    "plt.xticks(ticks=x, labels=weeks, rotation=45)\n",
    "plt.grid(True)\n",
    "plt.show()"
   ]
  },
  {
   "cell_type": "code",
   "execution_count": 42,
   "id": "7e2fcca1",
   "metadata": {},
   "outputs": [
    {
     "data": {
      "image/png": "[encoded data removed]",
      "text/plain": [
       "<Figure size 1200x800 with 1 Axes>"
      ]
     },
     "metadata": {},
     "output_type": "display_data"
    }
   ],
   "source": [
    "# Step 5: Plot the coefficients of Brand_open and Brand_closed with confidence intervals as shaded areas\n",
    "weeks = [f'Week{i}' for i in range(1, 11)]\n",
    "x = np.arange(1, 11)\n",
    "\n",
    "# Extract coefficients and confidence intervals for Brand_open\n",
    "coefficients_open = [results[f'lg{week}'].params['Brand_open'] for week in weeks]\n",
    "conf_intervals_open = [results[f'lg{week}'].conf_int().loc['Brand_open'] for week in weeks]\n",
    "lower_bounds_open = [conf[0] for conf in conf_intervals_open]\n",
    "upper_bounds_open = [conf[1] for conf in conf_intervals_open]\n",
    "\n",
    "# Extract coefficients and confidence intervals for Brand_closed\n",
    "coefficients_closed = [resultsc[f'lg{week}'].params['Brand_closed'] for week in weeks]\n",
    "conf_intervals_closed = [resultsc[f'lg{week}'].conf_int().loc['Brand_closed'] for week in weeks]\n",
    "lower_bounds_closed = [conf[0] for conf in conf_intervals_closed]\n",
    "upper_bounds_closed = [conf[1] for conf in conf_intervals_closed]\n",
    "\n",
    "plt.figure(figsize=(12, 8))\n",
    "\n",
    "# Plot Brand_open\n",
    "plt.plot(x, coefficients_open, label='Brand_open', color='blue')\n",
    "plt.fill_between(x, lower_bounds_open, upper_bounds_open, color='blue', alpha=0.2)\n",
    "\n",
    "# Plot Brand_closed\n",
    "plt.plot(x, coefficients_closed, label='Brand_closed', color='red')\n",
    "plt.fill_between(x, lower_bounds_closed, upper_bounds_closed, color='red', alpha=0.2)\n",
    "\n",
    "plt.axhline(0, color='gray', linestyle='--', linewidth=1)\n",
    "plt.xlabel('Week')\n",
    "plt.ylabel('Coefficient')\n",
    "plt.title('Effect of Brand:open and Brand:closed interactions on Weekly Log Sales, TOP-10 brands')\n",
    "plt.legend()\n",
    "plt.xticks(ticks=x, labels=weeks, rotation=45)\n",
    "plt.grid(True)\n",
    "plt.show()"
   ]
  },
  {
   "cell_type": "markdown",
   "id": "e7cb6c98",
   "metadata": {},
   "source": [
    "<b>3SLS estimation for system of equations</b>"
   ]
  },
  {
   "cell_type": "code",
   "execution_count": 44,
   "id": "13834c81",
   "metadata": {
    "scrolled": true
   },
   "outputs": [
    {
     "name": "stdout",
     "output_type": "stream",
     "text": [
      "                           System GLS Estimation Summary                           \n",
      "===================================================================================\n",
      "Estimator:                        GLS   Overall R-squared:                   0.9544\n",
      "No. Equations.:                     2   McElroy's R-squared:                -3.6630\n",
      "No. Observations:                 330   Judge's (OLS) R-squared:            -2.8611\n",
      "Date:                Thu, Jul 11 2024   Berndt's R-squared:                 -61.061\n",
      "Time:                        15:52:07   Dhrymes's R-squared:                 0.9411\n",
      "                                        Cov. Estimator:                  unadjusted\n",
      "                                        Num. Constraints:                      None\n",
      "                   Equation: Sales, Dependent Variable: lgsales                  \n",
      "=================================================================================\n",
      "               Parameter  Std. Err.     T-stat    P-value    Lower CI    Upper CI\n",
      "---------------------------------------------------------------------------------\n",
      "Brand             1.3427     0.4834     2.7779     0.0055      0.3954      2.2901\n",
      "Brand_open       -4.8430     1.4916    -3.2467     0.0012     -7.7665     -1.9194\n",
      "Price             0.0156     0.0110     1.4239     0.1545     -0.0059      0.0371\n",
      "Rating            0.1288     0.0079     16.214     0.0000      0.1132      0.1443\n",
      "Year_Dummy       -0.1921     0.2780    -0.6910     0.4896     -0.7370      0.3528\n",
      "Season_Fall       0.2629     0.4320     0.6087     0.5428     -0.5837      1.1096\n",
      "Season_Spring    -0.2137     0.4357    -0.4905     0.6238     -1.0677      0.6403\n",
      "Season_Summer     0.3279     0.4215     0.7780     0.4366     -0.4982      1.1541\n",
      "open              5.5572     1.4273     3.8934     0.0001      2.7597      8.3547\n",
      "Reviews        6.216e-05  8.474e-05     0.7335     0.4632     -0.0001      0.0002\n",
      "                                                                                 \n",
      "====================\n",
      "    Instruments     \n",
      "--------------------\n",
      "genre_open, Facebook\n",
      "                    \n",
      "                     Equation: WOM, Dependent Variable: lgwom                    \n",
      "=================================================================================\n",
      "               Parameter  Std. Err.     T-stat    P-value    Lower CI    Upper CI\n",
      "---------------------------------------------------------------------------------\n",
      "Brand             0.1356     0.6542     0.2072     0.8358     -1.1467      1.4178\n",
      "Brand_open       -2.5014     1.9249    -1.2995     0.1938     -6.2741      1.2712\n",
      "Price            -0.0036     0.0300    -0.1217     0.9031     -0.0624      0.0551\n",
      "Rating            0.0577     0.0277     2.0805     0.0375      0.0033      0.1120\n",
      "Year_Dummy        0.3834     0.5154     0.7438     0.4570     -0.6269      1.3936\n",
      "Season_Fall       0.6382     0.8938     0.7140     0.4752     -1.1137      2.3901\n",
      "Season_Spring     0.1614     0.6153     0.2623     0.7931     -1.0446      1.3675\n",
      "Season_Summer     1.0152     1.1972     0.8480     0.3965     -1.3313      3.3617\n",
      "open              1.5495     1.6699     0.9279     0.3535     -1.7234      4.8223\n",
      "Sales          8.709e-06  8.475e-06     1.0276     0.3041  -7.902e-06   2.532e-05\n",
      "=====================\n",
      "     Instruments     \n",
      "---------------------\n",
      "genre_open, Franchise\n",
      "---------------------\n",
      "\n",
      "Covariance Estimator:\n",
      "Homoskedastic (Unadjusted) Covariance (Debiased: False, GLS: True)\n"
     ]
    }
   ],
   "source": [
    "#3SLS wih dictionaries OPEN beta\n",
    "from linearmodels.system import IV3SLS\n",
    "Sales = {\n",
    "    \"dependent\": df2[[\"lgsales\"]],\n",
    "    \"exog\": df2[[\"Brand\", \"Brand_open\", \"Price\", \"Rating\", \"Year_Dummy\", \"Season_Fall\", \"Season_Spring\", \"Season_Summer\"]],\n",
    "    \"endog\": df2[[\"open\", \"Reviews\"]],\n",
    "    \"instruments\": df2[[\"genre_open\", \"Facebook\"]],\n",
    "}\n",
    "\n",
    "WOM = {\n",
    "    \"dependent\": df2[[\"lgwom\"]],\n",
    "    \"exog\": df2[[\"Brand\", \"Brand_open\", \"Price\", \"Rating\", \"Year_Dummy\", \"Season_Fall\", \"Season_Spring\", \"Season_Summer\"]],\n",
    "    \"endog\": df2[[\"open\", \"Sales\"]],\n",
    "    \"instruments\": df2[[\"genre_open\", \"Franchise\"]],\n",
    "}\n",
    "\n",
    "equations = dict(Sales=Sales, WOM=WOM)\n",
    "system_3sls = IV3SLS(equations)\n",
    "system_3sls_res = system_3sls.fit(cov_type=\"unadjusted\")\n",
    "print(system_3sls_res)"
   ]
  },
  {
   "cell_type": "code",
   "execution_count": 45,
   "id": "a009fa95",
   "metadata": {},
   "outputs": [
    {
     "name": "stdout",
     "output_type": "stream",
     "text": [
      "First-stage F-statistic for 'open' in Sales equation: 12.133964360532403\n",
      "First-stage F-statistic for 'open' in WOM equation: 12.133964360532403\n"
     ]
    }
   ],
   "source": [
    "import numpy as np\n",
    "\n",
    "def first_stage_f_stat(endog, exog, instruments):\n",
    "    # Combine exog and instruments into one DataFrame\n",
    "    X_full = pd.concat([exog, instruments], axis=1)\n",
    "    \n",
    "    # Fit the first-stage regression model\n",
    "    model_full = sm.OLS(endog, sm.add_constant(X_full)).fit()\n",
    "    model_reduced = sm.OLS(endog, sm.add_constant(exog)).fit()\n",
    "    \n",
    "    # Calculate the sum of squared residuals for both models\n",
    "    ssr_full = np.sum(model_full.resid ** 2)\n",
    "    ssr_reduced = np.sum(model_reduced.resid ** 2)\n",
    "    \n",
    "    # Number of instruments and endogenous regressors\n",
    "    num_instruments = instruments.shape[1]\n",
    "    num_obs = endog.shape[0]\n",
    "    num_exog = exog.shape[1]\n",
    "    \n",
    "    # Calculate the F-statistic\n",
    "    numerator = (ssr_reduced - ssr_full) / num_instruments\n",
    "    denominator = ssr_full / (num_obs - num_exog - num_instruments - 1)\n",
    "    f_stat = numerator / denominator\n",
    "    \n",
    "    return f_stat\n",
    "\n",
    "# Prepare the data\n",
    "Y_sales = df2[\"open\"]\n",
    "X_sales = df2[[\"Brand\", \"Brand_open\", \"Price\", \"Rating\", \"Year_Dummy\", \"Season_Fall\", \"Season_Spring\", \"Season_Summer\"]]\n",
    "Z_sales = df2[[\"genre_open\"]]\n",
    "\n",
    "Y_open_wom = df2[\"open\"]\n",
    "X_open_wom = df2[[\"Brand\", \"Brand_open\", \"Price\", \"Rating\", \"Year_Dummy\", \"Season_Fall\", \"Season_Spring\", \"Season_Summer\"]]\n",
    "Z_open_wom = df2[[\"genre_open\"]]\n",
    "\n",
    "# Calculate the Cragg-Donald F-statistic for each first-stage regression\n",
    "f_stat_open_sales = first_stage_f_stat(Y_sales, X_sales, Z_sales)\n",
    "print(\"First-stage F-statistic for 'open' in Sales equation:\", f_stat_open_sales)\n",
    "\n",
    "f_stat_open_wom = first_stage_f_stat(Y_open_wom, X_open_wom, Z_open_wom)\n",
    "print(\"First-stage F-statistic for 'open' in WOM equation:\", f_stat_open_wom)"
   ]
  },
  {
   "cell_type": "code",
   "execution_count": 46,
   "id": "24d4c246",
   "metadata": {
    "scrolled": true
   },
   "outputs": [
    {
     "name": "stdout",
     "output_type": "stream",
     "text": [
      "                           System GLS Estimation Summary                           \n",
      "===================================================================================\n",
      "Estimator:                        GLS   Overall R-squared:                   0.9244\n",
      "No. Equations.:                     2   McElroy's R-squared:                -0.7670\n",
      "No. Observations:                 330   Judge's (OLS) R-squared:            -5.4113\n",
      "Date:                Thu, Jul 11 2024   Berndt's R-squared:                 -38.979\n",
      "Time:                        15:52:11   Dhrymes's R-squared:                 0.9387\n",
      "                                        Cov. Estimator:                      robust\n",
      "                                        Num. Constraints:                      None\n",
      "                  Equation: Salesc, Dependent Variable: lgsales                  \n",
      "=================================================================================\n",
      "               Parameter  Std. Err.     T-stat    P-value    Lower CI    Upper CI\n",
      "---------------------------------------------------------------------------------\n",
      "Brand             2.5212     1.5269     1.6512     0.0987     -0.4715      5.5138\n",
      "Brand_closed     -7.5683     4.7521    -1.5926     0.1112     -16.882      1.7457\n",
      "Price             0.0416     0.0153     2.7082     0.0068      0.0115      0.0716\n",
      "Rating            0.1317     0.0178     7.4010     0.0000      0.0968      0.1666\n",
      "Year_Dummy       -0.8618     0.5574    -1.5461     0.1221     -1.9543      0.2307\n",
      "Season_Fall      -1.0016     0.7431    -1.3479     0.1777     -2.4580      0.4548\n",
      "Season_Spring     0.5280     0.6237     0.8466     0.3972     -0.6944      1.7505\n",
      "Season_Summer    -0.4160     0.6768    -0.6147     0.5387     -1.7424      0.9104\n",
      "closed            7.8581     4.6752     1.6808     0.0928     -1.3051      17.021\n",
      "Reviews          -0.0003     0.0001    -1.9718     0.0486     -0.0005  -1.549e-06\n",
      "                                                                                 \n",
      "======================\n",
      "     Instruments      \n",
      "----------------------\n",
      "genre_closed, Facebook\n",
      "                      \n",
      "                    Equation: WOMc, Dependent Variable: lgwom                    \n",
      "=================================================================================\n",
      "               Parameter  Std. Err.     T-stat    P-value    Lower CI    Upper CI\n",
      "---------------------------------------------------------------------------------\n",
      "Brand             0.8748     0.6361     1.3752     0.1691     -0.3720      2.1216\n",
      "Brand_closed     -3.3277     1.6052    -2.0730     0.0382     -6.4738     -0.1815\n",
      "Price             0.0161     0.0149     1.0791     0.2805     -0.0131      0.0452\n",
      "Rating            0.0709     0.0120     5.9234     0.0000      0.0474      0.0943\n",
      "Year_Dummy       -0.1502     0.3522    -0.4265     0.6698     -0.8405      0.5401\n",
      "Season_Fall      -0.1626     0.4923    -0.3302     0.7413     -1.1275      0.8024\n",
      "Season_Spring     0.2606     0.2715     0.9599     0.3371     -0.2715      0.7926\n",
      "Season_Summer     0.1856     0.6232     0.2978     0.7659     -1.0359      1.4070\n",
      "closed            3.3833     1.6877     2.0047     0.0450      0.0755      6.6912\n",
      "Sales          2.737e-06  4.244e-06     0.6450     0.5189   -5.58e-06   1.105e-05\n",
      "=======================\n",
      "      Instruments      \n",
      "-----------------------\n",
      "genre_closed, Franchise\n",
      "-----------------------\n",
      "\n",
      "Covariance Estimator:\n",
      "Heteroskedastic (Robust) Covariance (Debiased: False, GLS: True)\n"
     ]
    }
   ],
   "source": [
    "#3SLS wih dictionaries CLOSED\n",
    "Salesc = {\n",
    "    \"dependent\": df2[[\"lgsales\"]],\n",
    "    \"exog\": df2[[\"Brand\", \"Brand_closed\", \"Price\", \"Rating\", \"Year_Dummy\", \"Season_Fall\", \"Season_Spring\", \"Season_Summer\"]],\n",
    "    \"endog\": df2[[\"closed\", \"Reviews\"]],\n",
    "    \"instruments\": df2[[\"genre_closed\", \"Facebook\"]],\n",
    "}\n",
    "\n",
    "WOMc = {\n",
    "    \"dependent\": df2[[\"lgwom\"]],\n",
    "    \"exog\": df2[[\"Brand\", \"Brand_closed\", \"Price\", \"Rating\", \"Year_Dummy\", \"Season_Fall\", \"Season_Spring\", \"Season_Summer\"]],\n",
    "    \"endog\": df2[[\"closed\", \"Sales\"]],\n",
    "    \"instruments\": df2[[\"genre_closed\", \"Franchise\"]],\n",
    "}\n",
    "\n",
    "\n",
    "equationsc = dict(Salesc=Salesc, WOMc=WOMc)\n",
    "system_3slsc = IV3SLS(equationsc)\n",
    "system_3sls_resc = system_3slsc.fit(cov_type=\"robust\")\n",
    "print(system_3sls_resc)"
   ]
  },
  {
   "cell_type": "code",
   "execution_count": 47,
   "id": "acf092c3",
   "metadata": {
    "scrolled": true
   },
   "outputs": [
    {
     "name": "stdout",
     "output_type": "stream",
     "text": [
      "                    System 2-Step System GMM Estimation Summary                    \n",
      "===================================================================================\n",
      "Estimator:          2-Step System GMM   Overall R-squared:                   0.8783\n",
      "No. Equations.:                     2   McElroy's R-squared:                -7.9420\n",
      "No. Observations:                 330   Judge's (OLS) R-squared:            -9.3137\n",
      "Date:                Thu, Jul 11 2024   Berndt's R-squared:                 -108.95\n",
      "Time:                        15:52:11   Dhrymes's R-squared:                 0.7871\n",
      "                                        Cov. Estimator:                  unadjusted\n",
      "                                        Num. Constraints:                      None\n",
      "                   Equation: Sales, Dependent Variable: lgsales                  \n",
      "=================================================================================\n",
      "               Parameter  Std. Err.     T-stat    P-value    Lower CI    Upper CI\n",
      "---------------------------------------------------------------------------------\n",
      "Brand             1.8548     0.4518     4.1050     0.0000      0.9692      2.7404\n",
      "Brand_open       -5.2147     1.3153    -3.9645     0.0001     -7.7927     -2.6367\n",
      "Reviews        8.694e-05  2.611e-05     3.3301     0.0009   3.577e-05      0.0001\n",
      "Price             0.0161     0.0082     1.9555     0.0505  -3.672e-05      0.0323\n",
      "Rating            0.1216     0.0057     21.363     0.0000      0.1105      0.1328\n",
      "Year_Dummy       -0.2665     0.2581    -1.0325     0.3019     -0.7723      0.2394\n",
      "Season_Fall       0.1752     0.3721     0.4707     0.6378     -0.5542      0.9046\n",
      "Season_Spring    -0.2472     0.4093    -0.6038     0.5459     -1.0494      0.5551\n",
      "Season_Summer     0.1620     0.3676     0.4407     0.6594     -0.5584      0.8824\n",
      "open              5.9026     1.2273     4.8094     0.0000      3.4971      8.3081\n",
      "                                                                                 \n",
      "===========\n",
      "Instruments\n",
      "-----------\n",
      " genre_open\n",
      "           \n",
      "                   Equation: WOM, Dependent Variable: lgwom                   \n",
      "==============================================================================\n",
      "            Parameter  Std. Err.     T-stat    P-value    Lower CI    Upper CI\n",
      "------------------------------------------------------------------------------\n",
      "open           3.3868     0.5377     6.2987     0.0000      2.3329      4.4407\n",
      "Brand          3.7415     0.4678     7.9988     0.0000      2.8247      4.6582\n",
      "Brand_open    -5.1959     1.0945    -4.7473     0.0000     -7.3410     -3.0507\n",
      "Sales       1.311e-05  7.983e-07     16.420     0.0000   1.154e-05   1.467e-05\n",
      "=============================================================================\n",
      "                                 Instruments                                 \n",
      "-----------------------------------------------------------------------------\n",
      "Price, Rating, Reviews, Year_Dummy, Season_Fall, Season_Spring, Season_Summer\n",
      "-----------------------------------------------------------------------------\n",
      "\n",
      "Covariance Estimator:\n",
      "GMM Homoskedastic (Unadjusted) Covariance\n",
      "Weight Estimator:\n",
      "Homoskedastic (Unadjusted) Weighting (Debiased: False, Center: False)\n"
     ]
    }
   ],
   "source": [
    "#GMM estimation with weaker instruments assumptions SAlES OPEN\n",
    "from linearmodels.system import IVSystemGMM\n",
    "\n",
    "equations = {\n",
    "    'Sales': 'lgsales ~ [open ~ genre_open] + Brand + Brand_open + Reviews + Price + Rating + Year_Dummy + Season_Fall + Season_Spring + Season_Summer',\n",
    "    'WOM': 'lgwom ~ open + Brand + Brand_open + [Sales ~ Price + Rating + Reviews + Year_Dummy + Season_Fall + Season_Spring + Season_Summer]'\n",
    "}\n",
    "# Fit the model\n",
    "system_gmm = IVSystemGMM.from_formula(equations, df2, weight_type=\"unadjusted\")\n",
    "system_gmm_res = system_gmm.fit(cov_type=\"unadjusted\")\n",
    "\n",
    "# Display the results\n",
    "print(system_gmm_res)"
   ]
  },
  {
   "cell_type": "code",
   "execution_count": 48,
   "id": "7d1a9369",
   "metadata": {},
   "outputs": [
    {
     "name": "stdout",
     "output_type": "stream",
     "text": [
      "                    System 2-Step System GMM Estimation Summary                    \n",
      "===================================================================================\n",
      "Estimator:          2-Step System GMM   Overall R-squared:                   0.7091\n",
      "No. Equations.:                     2   McElroy's R-squared:                -23.135\n",
      "No. Observations:                 330   Judge's (OLS) R-squared:            -23.652\n",
      "Date:                Thu, Jul 11 2024   Berndt's R-squared:                 -526.94\n",
      "Time:                        15:52:12   Dhrymes's R-squared:                 0.6802\n",
      "                                        Cov. Estimator:                      robust\n",
      "                                        Num. Constraints:                      None\n",
      "                   Equation: Sales, Dependent Variable: lgsales                  \n",
      "=================================================================================\n",
      "               Parameter  Std. Err.     T-stat    P-value    Lower CI    Upper CI\n",
      "---------------------------------------------------------------------------------\n",
      "Brand             6.6233     2.8895     2.2922     0.0219      0.9599      12.287\n",
      "Brand_closed     -16.619     9.1304    -1.8202     0.0687     -34.515      1.2758\n",
      "Reviews           0.0002  5.778e-05     2.7952     0.0052   4.826e-05      0.0003\n",
      "Price             0.0120     0.0197     0.6077     0.5434     -0.0267      0.0507\n",
      "Rating            0.0789     0.0314     2.5156     0.0119      0.0174      0.1404\n",
      "Year_Dummy       -1.9237     0.9483    -2.0285     0.0425     -3.7824     -0.0650\n",
      "Season_Fall      -2.0264     1.1898    -1.7032     0.0885     -4.3583      0.3055\n",
      "Season_Spring     0.9128     0.9551     0.9558     0.3392     -0.9591      2.7847\n",
      "Season_Summer    -0.8430     0.9797    -0.8605     0.3895     -2.7631      1.0772\n",
      "closed            16.223     9.0123     1.8001     0.0719     -1.4411      33.886\n",
      "                                                                                 \n",
      "============\n",
      "Instruments \n",
      "------------\n",
      "genre_closed\n",
      "            \n",
      "                    Equation: WOM, Dependent Variable: lgwom                    \n",
      "================================================================================\n",
      "              Parameter  Std. Err.     T-stat    P-value    Lower CI    Upper CI\n",
      "--------------------------------------------------------------------------------\n",
      "closed           4.4980     0.4158     10.816     0.0000      3.6830      5.3131\n",
      "Brand            3.7620     0.4863     7.7353     0.0000      2.8088      4.7152\n",
      "Brand_closed    -5.1160     0.9853    -5.1924     0.0000     -7.0471     -3.1849\n",
      "Sales         1.542e-05  1.306e-06     11.805     0.0000   1.286e-05   1.798e-05\n",
      "=============================================================================\n",
      "                                 Instruments                                 \n",
      "-----------------------------------------------------------------------------\n",
      "Price, Rating, Reviews, Year_Dummy, Season_Fall, Season_Spring, Season_Summer\n",
      "-----------------------------------------------------------------------------\n",
      "\n",
      "Covariance Estimator:\n",
      "GMM Heteroskedastic (Robust) Covariance\n",
      "Weight Estimator:\n",
      "Heteroskedastic (Robust) Weighting (Debiased: False, Center: False)\n"
     ]
    }
   ],
   "source": [
    "#GMM estimation with weaker instruments assumptions SAlES CLOSED\n",
    "from linearmodels.system import IVSystemGMM\n",
    "\n",
    "equationsc = {\n",
    "    'Sales': 'lgsales ~ [closed ~ genre_closed] + Brand + Brand_closed + Reviews + Price + Rating + Year_Dummy + Season_Fall + Season_Spring + Season_Summer',\n",
    "    'WOM': 'lgwom ~ closed + Brand + Brand_closed + [Sales ~ Price + Rating + Reviews + Year_Dummy + Season_Fall + Season_Spring + Season_Summer]',\n",
    "}\n",
    "# Fit the model\n",
    "system_gmmc = IVSystemGMM.from_formula(equationsc, df2, weight_type=\"robust\")\n",
    "system_gmm_resc = system_gmmc.fit(cov_type=\"robust\")\n",
    "\n",
    "# Display the results\n",
    "print(system_gmm_resc)"
   ]
  },
  {
   "cell_type": "code",
   "execution_count": null,
   "id": "c339b943",
   "metadata": {},
   "outputs": [],
   "source": []
  }
 ],
 "metadata": {
  "kernelspec": {
   "display_name": "Python 3 (ipykernel)",
   "language": "python",
   "name": "python3"
  },
  "language_info": {
   "codemirror_mode": {
    "name": "ipython",
    "version": 3
   },
   "file_extension": ".py",
   "mimetype": "text/x-python",
   "name": "python",
   "nbconvert_exporter": "python",
   "pygments_lexer": "ipython3",
   "version": "3.10.9"
  }
 },
 "nbformat": 4,
 "nbformat_minor": 5
}
